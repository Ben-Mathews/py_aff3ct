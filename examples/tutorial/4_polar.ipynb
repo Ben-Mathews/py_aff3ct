{
 "cells": [
  {
   "cell_type": "markdown",
   "metadata": {},
   "source": [
    "# Polar codes BER/FER simulation\n",
    "\n",
    "This notebook shows how to build a polar encoder and decoder. \n",
    "\n",
    "## Objectives\n",
    "\n",
    "At the end of this notebook, you should be able to :\n",
    "* Use the `frozenbits_generator` tool of `py_aff3ct` to generate and load a frozen bits vector\n",
    "* Build and bind a polar encoder\n",
    "* Build and bind a polar decoder (SC, SCL, CA-SCL, ...)\n",
    "\n",
    "## Import librairies\n",
    "\n",
    "In order to use polar codes, one needs to use the following tools : `frozenbits_generator` and `noise`.\n",
    "The frozen bits generator supports several methods for the generation of frozen bits. "
   ]
  },
  {
   "cell_type": "code",
   "execution_count": 2,
   "metadata": {},
   "outputs": [],
   "source": [
    "import sys\n",
    "sys.path.insert(0, '../../build/lib')\n",
    "import numpy as np\n",
    "import time\n",
    "import math\n",
    "import matplotlib.pyplot as plt\n",
    "\n",
    "import py_aff3ct\n",
    "import py_aff3ct.tools.frozenbits_generator as tool_fb\n",
    "import py_aff3ct.tools.noise as tool_noise"
   ]
  },
  {
   "cell_type": "markdown",
   "metadata": {},
   "source": [
    "## Generate and load the frozen bits\n",
    "\n",
    "* Here we use a Gaussian Approximation to generate the frozen bits of the polar code. Other generators are available. \n",
    "* We also use the `noise` tool to set the noise level for which the frozen bits should be generated.\n",
    "* In this simulation, we use a different set of frozen bits for each simulated SNR."
   ]
  },
  {
   "cell_type": "code",
   "execution_count": null,
   "metadata": {},
   "outputs": [],
   "source": [
    "K = 512\n",
    "N = 1024\n",
    "bps = 4      # Bits per Symbols   \n",
    "Ns  = N//bps # Packet size in symbols\n",
    "\n",
    "ebn0_min = 6.0\n",
    "ebn0_max = 12.0\n",
    "ebn0_step = 0.25\n",
    "\n",
    "ebn0 = np.arange(ebn0_min,ebn0_max,ebn0_step)\n",
    "esn0 = ebn0 + 10 * math.log10(K/N)\n",
    "sigma_vals = 1/(math.sqrt(2) * 10 ** (esn0 / 20))\n",
    "\n",
    "# create a frozen bit generator\n",
    "fbgen = tool_fb.Frozenbits_generator_GA_Arikan(K, N)\n",
    "# create a noise tool\n",
    "noise = tool_noise.Sigma(sigma_vals[0])\n",
    "# set the noise for which the frozen bits should be generated\n",
    "fbgen.set_noise(noise)\n",
    "# generate and store the forzen bits\n",
    "frozen_bits = fbgen.generate()"
   ]
  },
  {
   "cell_type": "markdown",
   "metadata": {},
   "source": [
    "## Build the modules\n",
    "\n",
    "The polar encoder and decoder both need the code dimension `K`, the code length `N` and the `frozen_bits`."
   ]
  },
  {
   "cell_type": "code",
   "execution_count": null,
   "metadata": {},
   "outputs": [],
   "source": [
    "src  = py_aff3ct.module.source.Source_random           (K      )             # Build source\n",
    "enc  = py_aff3ct.module.encoder.Encoder_polar_sys      (K,N,frozen_bits)     # Build the encoder\n",
    "cstl = py_aff3ct.tools.constellation.Constellation_QAM (bps    )             # Setup constellation tool\n",
    "mdm  = py_aff3ct.module.modem.Modem_generic            (N, cstl)             # Build the modem\n",
    "chn  = py_aff3ct.module.channel.Channel_AWGN_LLR       (2*Ns   )             # Build the channel (Ns complex symbols = 2Ns real dims)\n",
    "dec  = py_aff3ct.module.decoder.Decoder_polar_SC_fast_sys(K,N,frozen_bits)   # Build the decoder\n",
    "mnt  = py_aff3ct.module.monitor.Monitor_BFER_AR        (K,100  )             # Build the monitor (counting errors)\n",
    "\n",
    "enc[\"encode       ::U_K \"] = src[\"generate   ::U_K \"   ]\n",
    "mdm[\"modulate     ::X_N1\"] = enc[\"encode     ::X_N \"   ]\n",
    "chn[\"add_noise    ::X_N \"] = mdm[\"modulate   ::X_N2\"   ]\n",
    "mdm[\"demodulate   ::Y_N1\"] = chn[\"add_noise  ::Y_N \"   ]\n",
    "dec[\"decode_siho  ::Y_N \"] = mdm[\"demodulate ::Y_N2\"   ]\n",
    "mnt[\"check_errors ::U   \"] = src[\"generate   ::U_K \"   ]\n",
    "mnt[\"check_errors ::V   \"] = dec[\"decode_siho::V_K \"   ]\n",
    "\n",
    "sigma = np.ndarray(shape = (1,1),  dtype = np.float32)\n",
    "chn[ 'add_noise::CP'] = sigma\n",
    "mdm['demodulate::CP'] = sigma\n",
    "\n",
    "fer = np.zeros(len(ebn0))\n",
    "ber = np.zeros(len(ebn0))"
   ]
  },
  {
   "cell_type": "markdown",
   "metadata": {},
   "source": [
    "## Simulation loop\n",
    "\n",
    "As mentioned before, in this simulation, we use a different set of frozen bits for each simulated SNR."
   ]
  },
  {
   "cell_type": "code",
   "execution_count": 3,
   "metadata": {},
   "outputs": [
    {
     "name": "stdout",
     "output_type": "stream",
     "text": [
      " Eb/NO (dB) | Frame number |    BER   |    FER   |  Tpt (Mbps)\n",
      "------------|--------------|----------|----------|------------\n",
      "       6.00 |          100 | 2.63e-01 | 1.00e+00 |       1.02\n",
      "       6.25 |          100 | 2.56e-01 | 1.00e+00 |       1.04\n",
      "       6.50 |          100 | 2.48e-01 | 1.00e+00 |       1.06\n",
      "       6.75 |          100 | 2.47e-01 | 1.00e+00 |       1.07\n",
      "       7.00 |          100 | 2.41e-01 | 1.00e+00 |       1.07\n",
      "       7.25 |          100 | 2.36e-01 | 1.00e+00 |       1.07\n",
      "       7.50 |          100 | 2.34e-01 | 1.00e+00 |       1.05\n",
      "       7.75 |          100 | 2.29e-01 | 1.00e+00 |       1.07\n",
      "       8.00 |          100 | 2.26e-01 | 1.00e+00 |       1.08\n",
      "       8.25 |          100 | 2.22e-01 | 1.00e+00 |       1.07\n",
      "       8.50 |          100 | 2.15e-01 | 1.00e+00 |       1.09\n",
      "       8.75 |          100 | 2.04e-01 | 1.00e+00 |       1.06\n",
      "       9.00 |          100 | 1.95e-01 | 1.00e+00 |       1.10\n",
      "       9.25 |          100 | 1.98e-01 | 1.00e+00 |       1.10\n",
      "       9.50 |          103 | 1.75e-01 | 9.71e-01 |       1.10\n",
      "       9.75 |          100 | 1.78e-01 | 1.00e+00 |       1.08\n",
      "      10.00 |          108 | 1.53e-01 | 9.26e-01 |       1.08\n",
      "      10.25 |          112 | 1.21e-01 | 8.93e-01 |       1.11\n",
      "      10.50 |          121 | 1.22e-01 | 8.26e-01 |       1.11\n",
      "      10.75 |          140 | 1.01e-01 | 7.14e-01 |       1.12\n",
      "      11.00 |          163 | 8.41e-02 | 6.13e-01 |       1.03\n",
      "      11.25 |          208 | 6.26e-02 | 4.81e-01 |       1.10\n",
      "      11.50 |          301 | 4.51e-02 | 3.32e-01 |       1.12\n",
      "      11.75 |          473 | 2.59e-02 | 2.11e-01 |       1.11\n"
     ]
    },
    {
     "data": {
      "image/png": "[encoded data removed]",
      "text/plain": [
       "<Figure size 432x288 with 1 Axes>"
      ]
     },
     "metadata": {
      "needs_background": "light"
     },
     "output_type": "display_data"
    }
   ],
   "source": [
    "\n",
    "\n",
    "\n",
    "print(\" Eb/NO (dB) | Frame number |    BER   |    FER   |  Tpt (Mbps)\")\n",
    "print(\"------------|--------------|----------|----------|------------\")\n",
    "for i in range(len(sigma_vals)):\n",
    "\tmnt.reset()\n",
    "\tsigma[:] = sigma_vals[i]\n",
    "\t# set the new noise value\n",
    "\tnoise = py_aff3ct.tools.noise.Sigma(sigma_vals[i])\t\n",
    "\tfbgen.set_noise(noise)\n",
    "\t# generate the new set of frozen bits\n",
    "\tfrozen_bits = fbgen.generate()\n",
    "\t# update the frozen bits values for both encoder and decoder\n",
    "\tenc.set_frozen_bits(frozen_bits)\n",
    "\tdec.set_frozen_bits(frozen_bits)\n",
    "\n",
    "\tt = time.time()\n",
    "\twhile not mnt.is_done():\n",
    "\t\tsrc['generate'    ].exec()\n",
    "\t\tenc['encode'      ].exec()\n",
    "\t\tmdm['modulate'    ].exec()\n",
    "\t\tchn['add_noise'   ].exec()\n",
    "\t\tmdm['demodulate'  ].exec()\n",
    "\t\tdec['decode_siho' ].exec()\n",
    "\t\tmnt['check_errors'].exec()\n",
    "\telapsed = time.time() - t\n",
    "\ttotal_fra = mnt.get_n_analyzed_fra()\n",
    "\n",
    "\tber[i] = mnt.get_ber()\n",
    "\tfer[i] = mnt.get_fer()\n",
    "\n",
    "\ttpt = total_fra * K * 1e-6/elapsed\n",
    "\tprint(\"%11.2f | %12d | %7.2e | %7.2e | %10.2f\"%(ebn0[i], total_fra, ber[i], fer[i], tpt))\n",
    "    \n",
    "\n",
    "fig = plt.figure()\n",
    "plt.title(\"16-QAM BER/FER vs Eb/N0\")\n",
    "plt.xlabel(\"Eb/N0\")\n",
    "plt.ylabel(\"BER/FER\")\n",
    "plt.grid()\n",
    "plt.semilogy(ebn0, fer, 'r-', ebn0, ber, 'b--')\n",
    "plt.show()\n",
    "\n"
   ]
  }
 ],
 "metadata": {
  "interpreter": {
   "hash": "916dbcbb3f70747c44a77c7bcd40155683ae19c65e1c03b4aa3499c5328201f1"
  },
  "kernelspec": {
   "display_name": "Python 3.9.4 64-bit",
   "language": "python",
   "name": "python3"
  },
  "language_info": {
   "codemirror_mode": {
    "name": "ipython",
    "version": 3
   },
   "file_extension": ".py",
   "mimetype": "text/x-python",
   "name": "python",
   "nbconvert_exporter": "python",
   "pygments_lexer": "ipython3",
   "version": "3.8.10"
  },
  "metadata": {
   "interpreter": {
    "hash": "aee8b7b246df8f9039afb4144a1f6fd8d2ca17a180786b69acc140d282b71a49"
   }
  }
 },
 "nbformat": 4,
 "nbformat_minor": 4
}
