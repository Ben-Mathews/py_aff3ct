{
 "cells": [
  {
   "cell_type": "code",
   "execution_count": 37,
   "metadata": {},
   "outputs": [
    {
     "name": "stdout",
     "output_type": "stream",
     "text": [
      " Eb/NO (dB) | Frame number |    BER   |    FER   |  Tpt (Mbps)\n",
      "------------|--------------|----------|----------|------------\n",
      "       6.00 |          100 | 2.63e-01 | 1.00e+00 |       0.88\n",
      "       6.25 |          100 | 2.55e-01 | 1.00e+00 |       1.06\n",
      "       6.50 |          100 | 2.49e-01 | 1.00e+00 |       1.10\n",
      "       6.75 |          100 | 2.45e-01 | 1.00e+00 |       1.07\n",
      "       7.00 |          100 | 2.33e-01 | 1.00e+00 |       1.06\n",
      "       7.25 |          100 | 2.35e-01 | 1.00e+00 |       1.02\n",
      "       7.50 |          100 | 2.19e-01 | 1.00e+00 |       1.05\n",
      "       7.75 |          100 | 2.14e-01 | 1.00e+00 |       1.07\n",
      "       8.00 |          100 | 2.04e-01 | 1.00e+00 |       1.10\n",
      "       8.25 |          100 | 1.86e-01 | 1.00e+00 |       1.12\n",
      "       8.50 |          100 | 1.86e-01 | 1.00e+00 |       1.10\n",
      "       8.75 |          100 | 1.66e-01 | 1.00e+00 |       1.10\n",
      "       9.00 |          101 | 1.42e-01 | 9.90e-01 |       1.09\n",
      "       9.25 |          100 | 1.47e-01 | 1.00e+00 |       1.10\n",
      "       9.50 |          101 | 1.24e-01 | 9.90e-01 |       1.08\n",
      "       9.75 |          105 | 1.13e-01 | 9.52e-01 |       1.11\n",
      "      10.00 |          112 | 9.11e-02 | 8.93e-01 |       1.11\n",
      "      10.25 |          129 | 8.26e-02 | 7.75e-01 |       1.12\n",
      "      10.50 |          151 | 6.54e-02 | 6.62e-01 |       1.12\n",
      "      10.75 |          182 | 4.66e-02 | 5.49e-01 |       1.11\n",
      "      11.00 |          284 | 2.85e-02 | 3.52e-01 |       1.13\n",
      "      11.25 |          416 | 1.97e-02 | 2.40e-01 |       1.14\n",
      "      11.50 |          627 | 1.24e-02 | 1.59e-01 |       1.16\n",
      "      11.75 |         1092 | 7.04e-03 | 9.16e-02 |       1.16\n"
     ]
    },
    {
     "data": {
      "image/png": "[encoded data removed]",
      "text/plain": [
       "<Figure size 432x288 with 1 Axes>"
      ]
     },
     "metadata": {
      "needs_background": "light"
     },
     "output_type": "display_data"
    }
   ],
   "source": [
    "\n",
    "import sys\n",
    "sys.path.insert(0, '../../build/lib')\n",
    "\n",
    "import numpy as np\n",
    "import py_aff3ct\n",
    "import time\n",
    "import math\n",
    "import matplotlib.pyplot as plt\n",
    "\n",
    "K = 512\n",
    "N = 1024\n",
    "bps = 4      # Bits per Symbols   \n",
    "Ns  = N//bps # Packet size in symbols\n",
    "\n",
    "ebn0_min = 6.0\n",
    "ebn0_max = 12.0\n",
    "ebn0_step = 0.25\n",
    "\n",
    "ebn0 = np.arange(ebn0_min,ebn0_max,ebn0_step)\n",
    "esn0 = ebn0 + 10 * math.log10(K/N)\n",
    "sigma_vals = 1/(math.sqrt(2) * 10 ** (esn0 / 20))\n",
    "\n",
    "fbgen = py_aff3ct.tools.frozenbits_generator.Frozenbits_generator_GA_Arikan(K, N)\n",
    "noise = py_aff3ct.tools.noise.Sigma(sigma_vals[0])\n",
    "fbgen.set_noise(noise)\n",
    "frozen_bits = fbgen.generate()\n",
    "\n",
    "src  = py_aff3ct.module.source.Source_random           (K      )             # Build source\n",
    "enc  = py_aff3ct.module.encoder.Encoder_polar_sys      (K,N,frozen_bits)     # Build the encoder\n",
    "cstl = py_aff3ct.tools.constellation.Constellation_QAM (bps    )             # Setup constellation tool\n",
    "mdm  = py_aff3ct.module.modem.Modem_generic            (N, cstl)             # Build the modem\n",
    "chn  = py_aff3ct.module.channel.Channel_AWGN_LLR       (2*Ns   )             # Build the channel (Ns complex symbols = 2Ns real dims)\n",
    "dec  = py_aff3ct.module.decoder.Decoder_polar_SC_fast_sys(K,N,frozen_bits)   # Build the decoder\n",
    "mnt  = py_aff3ct.module.monitor.Monitor_BFER_AR        (K,100  )             # Build the monitor (counting errors)\n",
    "\n",
    "enc[\"encode       ::U_K \"] = src[\"generate   ::U_K \"   ]\n",
    "mdm[\"modulate     ::X_N1\"] = enc[\"encode     ::X_N \"   ]\n",
    "chn[\"add_noise    ::X_N \"] = mdm[\"modulate   ::X_N2\"   ]\n",
    "mdm[\"demodulate   ::Y_N1\"] = chn[\"add_noise  ::Y_N \"   ]\n",
    "dec[\"decode_siho  ::Y_N \"] = mdm[\"demodulate ::Y_N2\"   ]\n",
    "mnt[\"check_errors ::U   \"] = src[\"generate   ::U_K \"   ]\n",
    "mnt[\"check_errors ::V   \"] = dec[\"decode_siho::V_K \"   ]\n",
    "\n",
    "sigma = np.ndarray(shape = (1,1),  dtype = np.float32)\n",
    "chn[ 'add_noise::CP'] = sigma\n",
    "mdm['demodulate::CP'] = sigma\n",
    "\n",
    "fer = np.zeros(len(ebn0))\n",
    "ber = np.zeros(len(ebn0))\n",
    "\n",
    "print(\" Eb/NO (dB) | Frame number |    BER   |    FER   |  Tpt (Mbps)\")\n",
    "print(\"------------|--------------|----------|----------|------------\")\n",
    "for i in range(len(sigma_vals)):\n",
    "\tmnt.reset()\n",
    "\tsigma[:] = sigma_vals[i]\n",
    "\n",
    "\tt = time.time()\n",
    "\twhile not mnt.is_done():\n",
    "\t\tsrc['generate'    ].exec()\n",
    "\t\tenc['encode'      ].exec()\n",
    "\t\tmdm['modulate'    ].exec()\n",
    "\t\tchn['add_noise'   ].exec()\n",
    "\t\tmdm['demodulate'  ].exec()\n",
    "\t\tdec['decode_siho' ].exec()\n",
    "\t\tmnt['check_errors'].exec()\n",
    "\telapsed = time.time() - t\n",
    "\ttotal_fra = mnt.get_n_analyzed_fra()\n",
    "\n",
    "\tber[i] = mnt.get_ber()\n",
    "\tfer[i] = mnt.get_fer()\n",
    "\n",
    "\ttpt = total_fra * K * 1e-6/elapsed\n",
    "\tprint(\"%11.2f | %12d | %7.2e | %7.2e | %10.2f\"%(ebn0[i], total_fra, ber[i], fer[i], tpt))\n",
    "    \n",
    "\n",
    "fig = plt.figure()\n",
    "plt.title(\"16-QAM BER/FER vs Eb/N0\")\n",
    "plt.xlabel(\"Eb/N0\")\n",
    "plt.ylabel(\"BER/FER\")\n",
    "plt.grid()\n",
    "plt.semilogy(ebn0, fer, 'r-', ebn0, ber, 'b--')\n",
    "plt.show()\n",
    "\n"
   ]
  }
 ],
 "metadata": {
  "interpreter": {
   "hash": "916dbcbb3f70747c44a77c7bcd40155683ae19c65e1c03b4aa3499c5328201f1"
  },
  "kernelspec": {
   "display_name": "Python 3.9.4 64-bit",
   "language": "python",
   "name": "python3"
  },
  "language_info": {
   "codemirror_mode": {
    "name": "ipython",
    "version": 3
   },
   "file_extension": ".py",
   "mimetype": "text/x-python",
   "name": "python",
   "nbconvert_exporter": "python",
   "pygments_lexer": "ipython3",
   "version": "3.8.10"
  },
  "metadata": {
   "interpreter": {
    "hash": "aee8b7b246df8f9039afb4144a1f6fd8d2ca17a180786b69acc140d282b71a49"
   }
  }
 },
 "nbformat": 4,
 "nbformat_minor": 4
}
