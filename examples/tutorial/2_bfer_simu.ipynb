{
 "cells": [
  {
   "cell_type": "markdown",
   "metadata": {},
   "source": [
    "# Compute BER/FER as a function of Eb/N0\n",
    "\n",
    "A common way for validating a communication chain is to compute Bit Error Rate (BER) or Frame Error Rate (FER) as a function of SNR (here we choose the SNR per information bit named Eb/N0). This operation includes most of the operations performed in the first part of this tutorial. In this note book, we will see how to write a Monte carlo simulation to estimate the BER and FER.\n",
    "\n",
    "## Objectives\n",
    "\n",
    "At the end of this notebook, you should be able to :\n",
    "* Create a simulation loop\n",
    "* Compute the BER and FER for different sigma values\n",
    "* Display the BER/FER curve with matplotlib\n",
    "\n",
    "## Build and bind the communication chain\n",
    "\n",
    "Here, we use the same chain as the previous tutorial 16-QAM + Repetition code"
   ]
  },
  {
   "cell_type": "code",
   "execution_count": 1,
   "metadata": {},
   "outputs": [],
   "source": [
    "import sys  \n",
    "sys.path.insert(0, '../../build/lib')\n",
    "import numpy as np\n",
    "import time\n",
    "import matplotlib.pyplot as plt\n",
    "import math\n",
    "\n",
    "import py_aff3ct\n",
    "\n",
    "K   = 2048   # Message size in bits\n",
    "N   = 4096   # Packet length in bits\n",
    "bps = 4      # Bits per Symbols   \n",
    "Ns  = N//bps # Packet size in symbols\n",
    "\n",
    "src  = py_aff3ct.module.source.Source_random           (K      ) # Build source\n",
    "enc  = py_aff3ct.module.encoder.Encoder_repetition_sys (K,N    ) # Build the encoder\n",
    "cstl = py_aff3ct.tools.constellation.Constellation_QAM (bps    ) # Setup constellation tool\n",
    "mdm  = py_aff3ct.module.modem.Modem_generic            (N, cstl) # Build the modem\n",
    "chn  = py_aff3ct.module.channel.Channel_AWGN_LLR       (2*Ns   ) # Build the channel (Ns complex symbols = 2Ns real dims)\n",
    "dec  = py_aff3ct.module.decoder.Decoder_repetition_std (K,N    ) # Build the decoder\n",
    "mnt  = py_aff3ct.module.monitor.Monitor_BFER_AR        (K,100  ) # Build the monitor (counting errors)\n",
    "\n",
    "enc[      'encode::U_K' ] = src[   'generate::U_K' ] # Source       -> Encoder\n",
    "mdm[    'modulate::X_N1'] = enc[     'encode::X_N' ] # Encoder      -> Modulation\n",
    "chn[   'add_noise::X_N' ] = mdm[   'modulate::X_N2'] # Modulation   -> Channel\n",
    "mdm[  'demodulate::Y_N1'] = chn[  'add_noise::Y_N' ] # Channel      -> Demodulation\n",
    "dec[ 'decode_siho::Y_N' ] = mdm[ 'demodulate::Y_N2'] # Demodulation -> Decoder\n",
    "mnt['check_errors::U'   ] = src[   'generate::U_K' ] # Source       -> Monitor\n",
    "mnt['check_errors::V'   ] = dec['decode_siho::V_K' ] # Decoder      -> Monitor\n",
    "\n",
    "sigma = np.ndarray(shape = (1,1),  dtype = np.float32)\n",
    "sigma[0] = 0.05\n",
    "# sigma_vals = 1/(math.sqrt(2) * 10 ** (esn0 / 20))\n",
    "\n",
    "chn[ 'add_noise::CP'].bind(sigma)\n",
    "mdm['demodulate::CP'].bind(sigma)\n"
   ]
  },
  {
   "cell_type": "markdown",
   "metadata": {},
   "source": [
    "## Set variables for the BER/FER loop\n",
    "\n",
    "We specify the vector of Eb/N0 values that we want to consider and convert these values to `sigma` values.\n",
    "We also initialize the BER and FER vectors to all zeros."
   ]
  },
  {
   "cell_type": "code",
   "execution_count": 2,
   "metadata": {},
   "outputs": [],
   "source": [
    "\n",
    "ebn0_min = 0\n",
    "ebn0_max = 12.0\n",
    "ebn0_step = 0.5\n",
    "\n",
    "ebn0 = np.arange(ebn0_min,ebn0_max,ebn0_step)\n",
    "esn0 = ebn0 + 10 * math.log10(K/Ns)\n",
    "sigma_vals = 1/(math.sqrt(2) * 10 ** (esn0 / 20))\n",
    "\n",
    "fer = np.zeros(len(ebn0))\n",
    "ber = np.zeros(len(ebn0))"
   ]
  },
  {
   "cell_type": "markdown",
   "metadata": {},
   "source": [
    "\n",
    "# Simulation loop\n",
    "\n",
    "We loop over all `sigma` values and execute each `task` of the chain. The monitor is reset each time to reset the error counter. Once the execution is over, we simply store the BER and FER values computed by the `monitor`."
   ]
  },
  {
   "cell_type": "code",
   "execution_count": 3,
   "metadata": {},
   "outputs": [
    {
     "name": "stdout",
     "output_type": "stream",
     "text": [
      " Eb/NO (dB) | Frame number |    BER   |    FER   |  Tpt (Mbps)\n",
      "------------|--------------|----------|----------|------------\n",
      "       0.00 |          100 | 1.49e-01 | 1.00e+00 |       1.06\n",
      "       0.50 |          100 | 1.38e-01 | 1.00e+00 |       1.12\n",
      "       1.00 |          100 | 1.26e-01 | 1.00e+00 |       0.97\n",
      "       1.50 |          100 | 1.13e-01 | 1.00e+00 |       1.05\n",
      "       2.00 |          100 | 1.01e-01 | 1.00e+00 |       1.13\n",
      "       2.50 |          100 | 9.05e-02 | 1.00e+00 |       1.13\n",
      "       3.00 |          100 | 7.95e-02 | 1.00e+00 |       1.10\n",
      "       3.50 |          100 | 6.92e-02 | 1.00e+00 |       1.12\n",
      "       4.00 |          100 | 5.96e-02 | 1.00e+00 |       1.13\n",
      "       4.50 |          100 | 5.10e-02 | 1.00e+00 |       1.18\n",
      "       5.00 |          100 | 4.30e-02 | 1.00e+00 |       1.18\n",
      "       5.50 |          100 | 3.48e-02 | 1.00e+00 |       1.20\n",
      "       6.00 |          100 | 2.85e-02 | 1.00e+00 |       1.19\n",
      "       6.50 |          100 | 2.18e-02 | 1.00e+00 |       1.19\n",
      "       7.00 |          100 | 1.72e-02 | 1.00e+00 |       1.14\n",
      "       7.50 |          100 | 1.29e-02 | 1.00e+00 |       1.24\n",
      "       8.00 |          100 | 9.58e-03 | 1.00e+00 |       1.24\n",
      "       8.50 |          100 | 6.28e-03 | 1.00e+00 |       1.26\n",
      "       9.00 |          100 | 4.41e-03 | 1.00e+00 |       1.24\n",
      "       9.50 |          100 | 2.91e-03 | 1.00e+00 |       1.28\n",
      "      10.00 |          107 | 1.79e-03 | 9.35e-01 |       1.28\n",
      "      10.50 |          107 | 1.14e-03 | 9.35e-01 |       1.29\n",
      "      11.00 |          134 | 6.09e-04 | 7.46e-01 |       1.26\n",
      "      11.50 |          221 | 2.96e-04 | 4.52e-01 |       1.30\n"
     ]
    }
   ],
   "source": [
    "print(\" Eb/NO (dB) | Frame number |    BER   |    FER   |  Tpt (Mbps)\")\n",
    "print(\"------------|--------------|----------|----------|------------\")\n",
    "for i in range(len(sigma_vals)):\n",
    "\t# reset the error counter of the monitor\n",
    "\tmnt.reset()\n",
    "\t# set the new sigma value\n",
    "\tsigma[:] = sigma_vals[i]\n",
    "\n",
    "\t# get the current time\n",
    "\tt = time.time()\n",
    "\n",
    "\t# execute the chain until the error counter reaches the max frame error target : 100 frame errors\n",
    "\twhile not mnt.is_done():\n",
    "\t\tsrc['generate'    ].exec()\n",
    "\t\tenc['encode'      ].exec()\n",
    "\t\tmdm['modulate'    ].exec()\n",
    "\t\tchn['add_noise'   ].exec()\n",
    "\t\tmdm['demodulate'  ].exec()\n",
    "\t\tdec['decode_siho' ].exec()\n",
    "\t\tmnt['check_errors'].exec()\n",
    "\n",
    "\t# calculate the simulation throughput\n",
    "\telapsed = time.time() - t\n",
    "\ttotal_fra = mnt.get_n_analyzed_fra()\n",
    "\ttpt = total_fra * K * 1e-6/elapsed\n",
    "\n",
    "\t# store the current BER and FER values\n",
    "\tber[i] = mnt.get_ber()\n",
    "\tfer[i] = mnt.get_fer()\n",
    "\n",
    "\t# Display data\n",
    "\tprint(\"%11.2f | %12d | %7.2e | %7.2e | %10.2f\"%(ebn0[i], total_fra, ber[i], fer[i], tpt))"
   ]
  },
  {
   "cell_type": "markdown",
   "metadata": {},
   "source": [
    "## Display the BER/FER curve\n",
    "\n",
    "Finally we display the BER/FER vs Eb/N0 curves using `matplotlib`"
   ]
  },
  {
   "cell_type": "code",
   "execution_count": 4,
   "metadata": {},
   "outputs": [
    {
     "data": {
      "image/png": "[encoded data removed]",
      "text/plain": [
       "<Figure size 432x288 with 1 Axes>"
      ]
     },
     "metadata": {
      "needs_background": "light"
     },
     "output_type": "display_data"
    }
   ],
   "source": [
    "fig = plt.figure()\n",
    "plt.title(\"16-QAM BER/FER vs Eb/N0\")\n",
    "plt.xlabel(\"Eb/N0\")\n",
    "plt.ylabel(\"BER/FER\")\n",
    "plt.grid()\n",
    "plt.semilogy(ebn0, fer, 'r-', ebn0, ber, 'b--')\n",
    "plt.show()\n"
   ]
  },
  {
   "cell_type": "markdown",
   "metadata": {},
   "source": [
    "# Exercise\n",
    "\n",
    "Try to change the modulation constellation and plot the new curve."
   ]
  }
 ],
 "metadata": {
  "interpreter": {
   "hash": "916dbcbb3f70747c44a77c7bcd40155683ae19c65e1c03b4aa3499c5328201f1"
  },
  "kernelspec": {
   "display_name": "Python 3.9.4 64-bit",
   "language": "python",
   "name": "python3"
  },
  "language_info": {
   "codemirror_mode": {
    "name": "ipython",
    "version": 3
   },
   "file_extension": ".py",
   "mimetype": "text/x-python",
   "name": "python",
   "nbconvert_exporter": "python",
   "pygments_lexer": "ipython3",
   "version": "3.8.10"
  },
  "metadata": {
   "interpreter": {
    "hash": "aee8b7b246df8f9039afb4144a1f6fd8d2ca17a180786b69acc140d282b71a49"
   }
  }
 },
 "nbformat": 4,
 "nbformat_minor": 4
}
