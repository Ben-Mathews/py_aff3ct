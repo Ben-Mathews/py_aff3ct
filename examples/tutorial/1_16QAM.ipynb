{
 "cells": [
  {
   "cell_type": "markdown",
   "metadata": {},
   "source": [
    "# Simulation of a noisy 16-QAM\n",
    "\n",
    "In this tutorial, we cover the following concept :\n",
    "* `sequence` of modules\n",
    "\n",
    "At the end of this tutorial, you should be able to :\n",
    "* Create a `sequence` of modules\n",
    "* Create and bind a monitor module to compute the error rate\n",
    "* Write a simple simulation loop\n",
    "* Plot the resulting BER/FER\n",
    "\n",
    "<a id='com_chain'></a>\n",
    "![16QAM_sequence](https://aff3ct.github.io/images/doc_py_aff3ct/16QAM_chain.svg)"
   ]
  },
  {
   "cell_type": "markdown",
   "metadata": {},
   "source": [
    "## Import libraries\n",
    "\n",
    "In this tutorial, in addition to `py_aff3ct` library, we need the `numpy` and the `matplotlib` libraries. You can install these libraries with `pip` as follow on Ubuntu 20.04:\n",
    "```bash\n",
    "$ sudo apt install python3-pip\n",
    "$ pip3 install --user -r requirements.txt\n",
    "```"
   ]
  },
  {
   "cell_type": "code",
   "execution_count": 1,
   "metadata": {},
   "outputs": [],
   "source": [
    "import sys  \n",
    "sys.path.insert(0, '../../build/lib')\n",
    "\n",
    "import py_aff3ct\n",
    "\n",
    "import numpy as np\n",
    "\n",
    "import matplotlib.pyplot as plt\n",
    "%matplotlib inline"
   ]
  },
  {
   "cell_type": "code",
   "execution_count": 2,
   "metadata": {},
   "outputs": [],
   "source": [
    "%qtconsole"
   ]
  },
  {
   "cell_type": "markdown",
   "metadata": {},
   "source": [
    "## Build the `modules`\n",
    "We start by building all the necessary objects for our simulation:\n",
    "* a `Source_random` for generating the bits\n",
    "* a `Encoder_repetition_sys` to encode the message, here using a repetition code\n",
    "* a `Modem_generic` to modulate/demodulate the bits as 16-QAM symbols\n",
    "* a `Channel_AWGN_LLR` to add a White Gaussian Noise (AWGN channel)\n",
    "* a `Decoder_NO` to decide the demodulation output to recover the bits\n",
    "* a `Monitor_BFER_AR` to count the number of errors and compute the Binary Error Rate (BER) and Frame Error Rate (FER) and perform Automatic Reduction (for enabling multi-threaded simulations)"
   ]
  },
  {
   "cell_type": "code",
   "execution_count": 3,
   "metadata": {},
   "outputs": [],
   "source": [
    "K   = 2048   # Message size in bits\n",
    "N   = 4096   # Packet length in bits\n",
    "bps = 4      # Bits per Symbols   \n",
    "Ns  = N//bps # Packet size in symbols\n",
    "\n",
    "src  = py_aff3ct.module.source.Source_random           (K      ) # Build source\n",
    "enc  = py_aff3ct.module.encoder.Encoder_repetition_sys (K,N    ) # Build the encoder\n",
    "cstl = py_aff3ct.tools.constellation.Constellation_QAM (bps    ) # Setup constellation tool\n",
    "mdm  = py_aff3ct.module.modem.Modem_generic            (N, cstl) # Build the modem\n",
    "chn  = py_aff3ct.module.channel.Channel_AWGN_LLR       (2*Ns   ) # Build the channel (Ns complex symbols = 2Ns real dims)\n",
    "dec  = py_aff3ct.module.decoder.Decoder_repetition_std (K,N    ) # Build the decoder\n",
    "mnt  = py_aff3ct.module.monitor.Monitor_BFER_AR        (K,100  ) # Build the monitor (counting errors)"
   ]
  },
  {
   "cell_type": "markdown",
   "metadata": {},
   "source": [
    "## Bind and execute the `tasks`\n",
    "Now we can bind the different tasks in order to create the processing sequence described in [this picture](#com_chain)."
   ]
  },
  {
   "cell_type": "code",
   "execution_count": 4,
   "metadata": {},
   "outputs": [],
   "source": [
    "enc[      'encode::U_K' ] = src[   'generate::U_K' ] # Source       -> Encoder\n",
    "mdm[    'modulate::X_N1'] = enc[     'encode::X_N' ] # Encoder      -> Modulation\n",
    "chn[   'add_noise::X_N' ] = mdm[   'modulate::X_N2'] # Modulation   -> Channel\n",
    "mdm[  'demodulate::Y_N1'] = chn[  'add_noise::Y_N' ] # Channel      -> Demodulation\n",
    "dec[ 'decode_siho::Y_N' ] = mdm[ 'demodulate::Y_N2'] # Demodulation -> Decoder\n",
    "mnt['check_errors::U'   ] = src[   'generate::U_K' ] # Source       -> Monitor\n",
    "mnt['check_errors::V'   ] = dec['decode_siho::V_K' ] # Decoder      -> Monitor"
   ]
  },
  {
   "cell_type": "markdown",
   "metadata": {},
   "source": [
    "<a id='sigma_def'></a>\n",
    "If you look at the information for tasks `add_noise` and `demodulate`, you will found out that a socket named `CP` should be filled. `CP` stands for \"Channel Parameter\", which for Additive White Gaussian Noise (AWGN) channel, represents the noise standard deviation. Let now fill this socket with a user defined value. "
   ]
  },
  {
   "cell_type": "code",
   "execution_count": 5,
   "metadata": {},
   "outputs": [
    {
     "name": "stdout",
     "output_type": "stream",
     "text": [
      "Channel Parameter (CP) for 'chn': [[0.05]]\n",
      "Channel Parameter (CP) for 'mdm': [[0.05]]\n"
     ]
    }
   ],
   "source": [
    "sigma = np.ndarray(shape = (1,1),  dtype = np.float32)\n",
    "sigma[0] = 0.05\n",
    "\n",
    "chn[ 'add_noise::CP'].bind(sigma)\n",
    "mdm['demodulate::CP'].bind(sigma)\n",
    "print(\"Channel Parameter (CP) for 'chn':\", chn[ 'add_noise::CP'][:])\n",
    "print(\"Channel Parameter (CP) for 'mdm':\", mdm['demodulate::CP'][:])"
   ]
  },
  {
   "cell_type": "code",
   "execution_count": 6,
   "metadata": {},
   "outputs": [],
   "source": [
    "src['generate'   ].exec()\n",
    "enc['encode'     ].exec()\n",
    "mdm['modulate'   ].exec()\n",
    "chn['add_noise'  ].exec()\n",
    "mdm['demodulate' ].exec()\n",
    "dec['decode_siho'].exec()"
   ]
  },
  {
   "cell_type": "markdown",
   "metadata": {},
   "source": [
    "## Display data\n",
    "As in the Hello World tutorial, we can recover `socket` data and then display its constellation diagram using `matplotlib`."
   ]
  },
  {
   "cell_type": "code",
   "execution_count": 7,
   "metadata": {},
   "outputs": [],
   "source": [
    "sent_signal = mdm[  'modulate::X_N2'][:]\n",
    "recv_signal = mdm['demodulate::Y_N1'][:]"
   ]
  },
  {
   "cell_type": "code",
   "execution_count": 8,
   "metadata": {},
   "outputs": [
    {
     "data": {
      "image/png": "[encoded data removed]",
      "text/plain": [
       "<Figure size 432x288 with 1 Axes>"
      ]
     },
     "metadata": {
      "needs_background": "light"
     },
     "output_type": "display_data"
    }
   ],
   "source": [
    "plt.plot(recv_signal[0, ::2], recv_signal[0, 1::2], '.')\n",
    "plt.plot(sent_signal[0, ::2], sent_signal[0, 1::2], '+')\n",
    "plt.title(\"16-QAM constellation diagram\")\n",
    "plt.xlabel(\"In-phase\")\n",
    "plt.ylabel(\"Quadrature\")\n",
    "plt.grid()"
   ]
  },
  {
   "cell_type": "code",
   "execution_count": 9,
   "metadata": {},
   "outputs": [
    {
     "name": "stdout",
     "output_type": "stream",
     "text": [
      "# Monitor_BFER_AR::check_errors(const int32 U[2048], const int32 V[2048])\n",
      "# {IN}  U = [    1,     1,     1,     1,     1,     1,     1,     1, ...]\n",
      "# {IN}  V = [    1,     1,     1,     1,     1,     1,     1,     1, ...]\n",
      "# Returned status: [0 'SUCCESS']\n",
      "#\n"
     ]
    }
   ],
   "source": [
    "mnt['check_errors'].debug = True\n",
    "mnt['check_errors'].set_debug_limit(8)\n",
    "mnt['check_errors'].exec()\n",
    "mnt['check_errors'].debug = False"
   ]
  },
  {
   "cell_type": "markdown",
   "metadata": {},
   "source": [
    "Changing the value of `sigma` [here](#sigma2_def) and re-executing the following cells should change the returned status of the `Monitor_BFER` module."
   ]
  }
 ],
 "metadata": {
  "interpreter": {
   "hash": "916dbcbb3f70747c44a77c7bcd40155683ae19c65e1c03b4aa3499c5328201f1"
  },
  "kernelspec": {
   "display_name": "Python 3.9.4 64-bit",
   "language": "python",
   "name": "python3"
  },
  "language_info": {
   "codemirror_mode": {
    "name": "ipython",
    "version": 3
   },
   "file_extension": ".py",
   "mimetype": "text/x-python",
   "name": "python",
   "nbconvert_exporter": "python",
   "pygments_lexer": "ipython3",
   "version": "3.8.10"
  },
  "metadata": {
   "interpreter": {
    "hash": "aee8b7b246df8f9039afb4144a1f6fd8d2ca17a180786b69acc140d282b71a49"
   }
  }
 },
 "nbformat": 4,
 "nbformat_minor": 4
}
