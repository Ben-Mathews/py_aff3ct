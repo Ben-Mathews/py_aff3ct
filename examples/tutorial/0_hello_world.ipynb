{
 "cells": [
  {
   "cell_type": "markdown",
   "metadata": {},
   "source": [
    "# The `py_aff3ct` 'Hello World'\n",
    "\n",
    "This notebook presents the first steps for playing with [AFF3CT](https://aff3ct.github.io/). \n",
    "\n",
    "## Objectives\n",
    "\n",
    "In this notebook, we cover the following key concepts of `py_aff3ct`:\n",
    "* `module`\n",
    "* `task`\n",
    "* `socket`\n",
    "\n",
    "At the end of this notebook, you should be able to :\n",
    "* Create a `module`\n",
    "* Get information about the `task` of a `module`\n",
    "* Bind two `sockets`\n",
    "* Execute a `task` of a `module`\n",
    "* Read the values of a `socket`\n",
    "* Activate the debug mode of a task\n",
    "\n",
    "## Libraries import\n",
    "\n",
    "Before going any further, we should import the `py_aff3ct` library. The `sys` library is required to add the library path to your path. For this example, we will also need the `numpy` library."
   ]
  },
  {
   "cell_type": "code",
   "execution_count": 11,
   "metadata": {},
   "outputs": [],
   "source": [
    "import sys  \n",
    "sys.path.insert(0, '../../build/lib')\n",
    "import numpy as np\n",
    "\n",
    "import py_aff3ct"
   ]
  },
  {
   "cell_type": "markdown",
   "metadata": {},
   "source": [
    "## Module building\n",
    "\n",
    "The `py_aff3ct` library is composed of `modules`. Basically, a module is a device that can process data. A data processing is called a `task` in the AFF3CT language. Tasks exchange data through `sockets`.\n",
    "\n",
    "Let's start by building a source `module` that generates random binary data of length 8."
   ]
  },
  {
   "cell_type": "code",
   "execution_count": 12,
   "metadata": {},
   "outputs": [],
   "source": [
    "src = py_aff3ct.module.source.Source_random(8)"
   ]
  },
  {
   "cell_type": "markdown",
   "metadata": {},
   "source": [
    " This module has a task called `generate`. Let us display information about this `task`.\n",
    " Now we can generate the bits randomly by executing the task named `generate`."
   ]
  },
  {
   "cell_type": "code",
   "execution_count": 13,
   "metadata": {},
   "outputs": [
    {
     "name": "stdout",
     "output_type": "stream",
     "text": [
      "The use of parenthesis for accessing tasks is deprecated, use brackets instead.\n",
      "- Task \n",
      "\t- Name         : generate\n",
      "\t- Sockets      : \n",
      "\t- Socket 0\n",
      "\t\t- Name              : U_K\n",
      "\t\t- Type              : out\n",
      "\t\t- Elements per frame: 8\n",
      "\t\t- Data type         : int32\n",
      "\t- Socket 1\n",
      "\t\t- Name              : status\n",
      "\t\t- Type              : out\n",
      "\t\t- Elements per frame: 1\n",
      "\t\t- Data type         : int32\n",
      "\n"
     ]
    }
   ],
   "source": [
    "src('generate').info()"
   ]
  },
  {
   "cell_type": "markdown",
   "metadata": {},
   "source": [
    "## Module  execution\n",
    "\n",
    "Let us execute the task `generate`"
   ]
  },
  {
   "cell_type": "code",
   "execution_count": 14,
   "metadata": {},
   "outputs": [
    {
     "name": "stdout",
     "output_type": "stream",
     "text": [
      "The use of parenthesis for accessing tasks is deprecated, use brackets instead.\n"
     ]
    }
   ],
   "source": [
    "src('generate').exec()"
   ]
  },
  {
   "cell_type": "markdown",
   "metadata": {},
   "source": [
    "The generated bits are contained in the socket `U_K` and can be accessed from your python code as a NumPy array using the `module['task_name::socket_name']` syntax. "
   ]
  },
  {
   "cell_type": "code",
   "execution_count": 15,
   "metadata": {},
   "outputs": [
    {
     "name": "stdout",
     "output_type": "stream",
     "text": [
      "bits =  [[1 1 1 1 1 1 1 1]]\n"
     ]
    }
   ],
   "source": [
    "bits = src['generate::U_K'][:]\n",
    "print(\"bits = \", bits)"
   ]
  },
  {
   "cell_type": "markdown",
   "metadata": {},
   "source": [
    "## Second module building\n",
    "\n",
    "We now want to modulate the bits of `U_K` using BPSK modulation. So, we start by building a BPSK `modem` (which is a also a `module`)."
   ]
  },
  {
   "cell_type": "code",
   "execution_count": 16,
   "metadata": {},
   "outputs": [],
   "source": [
    "mod = py_aff3ct.module.modem.Modem_BPSK(8)"
   ]
  },
  {
   "cell_type": "markdown",
   "metadata": {},
   "source": [
    "When asking for more details about the task `modulate` of object `mod` we can see that this task has one input socket called `X_N1`."
   ]
  },
  {
   "cell_type": "code",
   "execution_count": 17,
   "metadata": {},
   "outputs": [
    {
     "name": "stdout",
     "output_type": "stream",
     "text": [
      "The use of parenthesis for accessing tasks is deprecated, use brackets instead.\n",
      "- Task \n",
      "\t- Name         : modulate\n",
      "\t- Sockets      : \n",
      "\t- Socket 0\n",
      "\t\t- Name              : X_N1\n",
      "\t\t- Type              : in\n",
      "\t\t- Elements per frame: 8\n",
      "\t\t- Data type         : int32\n",
      "\t- Socket 1\n",
      "\t\t- Name              : X_N2\n",
      "\t\t- Type              : out\n",
      "\t\t- Elements per frame: 8\n",
      "\t\t- Data type         : float32\n",
      "\t- Socket 2\n",
      "\t\t- Name              : status\n",
      "\t\t- Type              : out\n",
      "\t\t- Elements per frame: 1\n",
      "\t\t- Data type         : int32\n",
      "\n"
     ]
    }
   ],
   "source": [
    "mod('modulate').info()"
   ]
  },
  {
   "cell_type": "markdown",
   "metadata": {},
   "source": [
    "## Module binding \n",
    "\n",
    "To link the source `src` and the modulator `mod`, the output socket `U_K` of the task `generate` of the module `src` should be \"binded\" to the input socket `X_N1` of the task `modulate` of the module `mod`."
   ]
  },
  {
   "cell_type": "code",
   "execution_count": 18,
   "metadata": {},
   "outputs": [],
   "source": [
    "mod['modulate::X_N1'] = src['generate::U_K']"
   ]
  },
  {
   "cell_type": "markdown",
   "metadata": {},
   "source": [
    "## Tasks execution\n",
    "\n",
    "Now we can execute the tasks of each module."
   ]
  },
  {
   "cell_type": "code",
   "execution_count": 19,
   "metadata": {
    "scrolled": true
   },
   "outputs": [
    {
     "name": "stdout",
     "output_type": "stream",
     "text": [
      "bits    =  [[0 1 1 0 0 0 1 0]]\n",
      "symbols =  [[ 1. -1. -1.  1.  1.  1. -1.  1.]]\n"
     ]
    }
   ],
   "source": [
    "src['generate'].exec()\n",
    "mod['modulate'].exec()\n",
    "bits    = src['generate::U_K'][:]\n",
    "symbols = mod['modulate::X_N2'][:]\n",
    "print(\"bits    = \", bits)\n",
    "print(\"symbols = \", symbols)"
   ]
  },
  {
   "cell_type": "markdown",
   "metadata": {},
   "source": [
    "## Debug mode activation\n",
    "\n",
    "You can see that the data is automatically transfered from the output of `generate` to the input of `modulate`. The data printing can be handled automatically by setting the `debug` property of the tasks to `true`."
   ]
  },
  {
   "cell_type": "code",
   "execution_count": 20,
   "metadata": {},
   "outputs": [
    {
     "name": "stdout",
     "output_type": "stream",
     "text": [
      "# Source_random::generate(int32 U_K[8])\n",
      "# {OUT} U_K = [    1,     0,     0,     0,     1,     1,     1,     0]\n",
      "# Returned status: [0 'SUCCESS']\n",
      "#\n",
      "# Modem_BPSK::modulate(const int32 X_N1[8], float32 X_N2[8])\n",
      "# {IN}  X_N1 = [    1,     0,     0,     0,     1,     1,     1,     0]\n",
      "# {OUT} X_N2 = [-1.00,  1.00,  1.00,  1.00, -1.00, -1.00, -1.00,  1.00]\n",
      "# Returned status: [0 'SUCCESS']\n",
      "#\n"
     ]
    }
   ],
   "source": [
    "src['generate'].debug = True\n",
    "mod['modulate'].debug = True\n",
    "src['generate'].exec()\n",
    "mod['modulate'].exec()"
   ]
  }
 ],
 "metadata": {
  "kernelspec": {
   "display_name": "Python 3",
   "language": "python",
   "name": "python3"
  },
  "language_info": {
   "codemirror_mode": {
    "name": "ipython",
    "version": 3
   },
   "file_extension": ".py",
   "mimetype": "text/x-python",
   "name": "python",
   "nbconvert_exporter": "python",
   "pygments_lexer": "ipython3",
   "version": "3.8.10"
  }
 },
 "nbformat": 4,
 "nbformat_minor": 4
}
