{
 "cells": [
  {
   "cell_type": "code",
   "execution_count": 1,
   "metadata": {},
   "outputs": [],
   "source": [
    "import sys  \n",
    "sys.path.insert(0, '../../build/lib')\n",
    "\n",
    "import py_aff3ct\n",
    "import numpy as np\n",
    "import math\n",
    "import matplotlib.pyplot as plt\n",
    "%matplotlib inline"
   ]
  },
  {
   "cell_type": "code",
   "execution_count": 2,
   "metadata": {},
   "outputs": [],
   "source": [
    "# Constants\n",
    "N   = 4096   # Packet length in bits\n",
    "bps = 4      # Bits per Symbols   \n",
    "Ns  = N//bps # Packet size in symbols\n",
    "EsN0dB = 7"
   ]
  },
  {
   "cell_type": "code",
   "execution_count": 3,
   "metadata": {},
   "outputs": [],
   "source": [
    "def Jm1(I):\n",
    "    sigma = np.zeros(I.shape)\n",
    "    msk_l = I <= np.ones(I.shape) * 0.3646\n",
    "    msk_u = I >  np.ones(I.shape) * 0.3646\n",
    "    sigma[msk_l] = 1.09542 * I[msk_l] ** 2 + 0.214217 * I[msk_l] + 2.33737 * np.sqrt(I[msk_l])\n",
    "    sigma[msk_u] = -0.706692 * np.log(0.386013*(1.0-I[msk_u])) + 1.75017*I[msk_u]\n",
    "    return sigma\n",
    "\n",
    "def J(sigma):\n",
    "    I = np.zeros(sigma.shape)\n",
    "    msk_l = sigma <= np.ones(sigma.shape) * 1.6363\n",
    "    msk_u = sigma >  np.ones(sigma.shape) * 1.6363\n",
    "    I[msk_l] = -0.0421061 * sigma[msk_l]**3 + 0.209252 * sigma[msk_l]**2 + -0.00640081 * sigma[msk_l]\n",
    "    I[msk_u] = 1 - np.exp(0.00181491 * sigma[msk_u]**3 -0.142675 * sigma[msk_u]**2 -0.0822054 * sigma[msk_u] + 0.0549608)\n",
    "    I[sigma >= 10] = 1.0\n",
    "    return I"
   ]
  },
  {
   "cell_type": "code",
   "execution_count": 4,
   "metadata": {},
   "outputs": [],
   "source": [
    "# Build the modules for the \"classical\" sequence\n",
    "src    = py_aff3ct.module.source.Source_random(N)        # Build source\n",
    "cstl   = py_aff3ct.tools.constellation.Constellation_user('../../lib/aff3ct/conf/mod/16QAM_ANTI_GRAY.mod')\n",
    "#cstl   = py_aff3ct.tools.constellation.Constellation_QAM(bps)\n",
    "mdm    = py_aff3ct.module.modem.Modem_generic(N, cstl)   # Build the modem\n",
    "chn    = py_aff3ct.module.channel.Channel_AWGN_LLR(2*Ns) # Build the channel (Ns complex symbols = 2Ns real dims)\n",
    "\n",
    "# Build the modules for the \"a priori\" sequence\n",
    "mdm_a  = py_aff3ct.module.modem.Modem_BPSK_fast(N)    # Build the modem\n",
    "chn_a  = py_aff3ct.module.channel.Channel_AWGN_LLR(N) # Build the channel (Ns complex symbols = 2Ns real dims)\n",
    "\n",
    "mnt_a    = py_aff3ct.module.monitor.Monitor_MI(N,10000) # Build the monitor (Evaluating Mutual Information)\n",
    "mnt_e    = py_aff3ct.module.monitor.Monitor_MI(N,10000) # Build the monitor (counting errors)"
   ]
  },
  {
   "cell_type": "code",
   "execution_count": 5,
   "metadata": {},
   "outputs": [],
   "source": [
    "# \"Normal\" sequence binding\n",
    "mdm  [   'modulate::X_N1'] = src  [ 'generate::U_K' ] # Source     -> Modulation\n",
    "chn  [  'add_noise::X_N' ] = mdm  [ 'modulate::X_N2'] # Modulation -> Channel\n",
    "mdm  ['tdemodulate::Y_N1'] = chn  ['add_noise::Y_N' ] # Channel    -> Demodulation\n",
    "\n",
    "# \"a priori\" sequence binding\n",
    "mdm_a[   'modulate::X_N1'] = src  [  'generate::U_K' ] # Source     -> BPSK\n",
    "chn_a[  'add_noise::X_N' ] = mdm_a[  'modulate::X_N2'] # BPSK       -> AWGN Channel\n",
    "mdm_a[ 'demodulate::Y_N1'] = chn_a[ 'add_noise::Y_N' ] # Channel    -> BPSK demodulation (LLR computation)\n",
    "mdm  ['tdemodulate::Y_N2'] = mdm_a['demodulate::Y_N2'] # BPSK demod -> turbo demodulation\n",
    "\n",
    "# Monitor a priori mututal information\n",
    "mnt_a['get_mutual_info::X'] = src  [  'generate::U_K' ]\n",
    "mnt_a['get_mutual_info::Y'] = mdm_a['demodulate::Y_N2']\n",
    "\n",
    "# Monitor extrinsic mututal information\n",
    "mnt_e['get_mutual_info::X'] = src  [   'generate::U_K' ]\n",
    "mnt_e['get_mutual_info::Y'] = mdm  ['tdemodulate::Y_N3']"
   ]
  },
  {
   "cell_type": "code",
   "execution_count": 6,
   "metadata": {},
   "outputs": [],
   "source": [
    "sigma = np.ndarray(shape = (1,1),  dtype = np.float32)\n",
    "sigma[0] = 2*10**(-EsN0dB/10)\n",
    "\n",
    "chn[  'add_noise::CP'].bind(sigma)\n",
    "mdm['tdemodulate::CP'].bind(sigma)\n",
    "\n",
    "sigma_a = np.ndarray(shape = (1,1),  dtype = np.float32)\n",
    "sigma_a[0] = 1\n",
    "\n",
    "chn_a[  'add_noise::CP'].bind(sigma_a)\n",
    "mdm_a[ 'demodulate::CP'].bind(sigma_a)"
   ]
  },
  {
   "cell_type": "code",
   "execution_count": 7,
   "metadata": {},
   "outputs": [],
   "source": [
    "seq = py_aff3ct.tools.pipeline.Pipeline(\n",
    "    [src[\"generate\"         ]], # Initial stage\n",
    "    [], # Empty: let AFF3CT explore the binding tree\n",
    "    [\n",
    "        [[src[\"generate\"]], [],[mnt_a[\"get_mutual_info\"], mnt_e[\"get_mutual_info\"]]], # Stage 0: all but the monitors\n",
    "        [[mnt_a[\"get_mutual_info\"], mnt_e[\"get_mutual_info\"]], [], []]                # Stage 1: the monitors\n",
    "    ],\n",
    "    [14, 1], # Stage 0 duplicated on 14 threads, stage 1 on 1 thread\n",
    "    [1000],  # Queue length between stages\n",
    "    [False]) # False: active waiting"
   ]
  },
  {
   "cell_type": "code",
   "execution_count": 8,
   "metadata": {},
   "outputs": [],
   "source": [
    "I_A_0 = np.arange(0.0001,1.0,0.1)\n",
    "I_A_0 = np.append(I_A_0, 0.99999)\n",
    "# Convert I_A into variance values for the AWGN channel\n",
    "sigma_a_vec = 2/Jm1(I_A_0)"
   ]
  },
  {
   "cell_type": "code",
   "execution_count": 9,
   "metadata": {},
   "outputs": [
    {
     "name": "stdout",
     "output_type": "stream",
     "text": [
      "---------|---------|----------\n",
      "  I_A_0  |   I_A   |    I_E   \n",
      "---------|---------|----------\n",
      "    0.00 |    0.00 |    0.10 \n",
      "    0.10 |    0.10 |    0.18 \n"
     ]
    },
    {
     "ename": "KeyboardInterrupt",
     "evalue": "",
     "output_type": "error",
     "traceback": [
      "\u001b[0;31m---------------------------------------------------------------------------\u001b[0m",
      "\u001b[0;31mKeyboardInterrupt\u001b[0m                         Traceback (most recent call last)",
      "\u001b[0;32m<ipython-input-9-0d4e119d66c8>\u001b[0m in \u001b[0;36m<module>\u001b[0;34m\u001b[0m\n\u001b[1;32m     10\u001b[0m \u001b[0;34m\u001b[0m\u001b[0m\n\u001b[1;32m     11\u001b[0m     \u001b[0msigma_a\u001b[0m\u001b[0;34m[\u001b[0m\u001b[0;36m0\u001b[0m\u001b[0;34m]\u001b[0m \u001b[0;34m=\u001b[0m \u001b[0msigma_a_vec\u001b[0m\u001b[0;34m[\u001b[0m\u001b[0mi\u001b[0m\u001b[0;34m]\u001b[0m\u001b[0;34m\u001b[0m\u001b[0;34m\u001b[0m\u001b[0m\n\u001b[0;32m---> 12\u001b[0;31m     \u001b[0mseq\u001b[0m\u001b[0;34m.\u001b[0m\u001b[0mexec\u001b[0m\u001b[0;34m(\u001b[0m\u001b[0;34m)\u001b[0m\u001b[0;34m\u001b[0m\u001b[0;34m\u001b[0m\u001b[0m\n\u001b[0m\u001b[1;32m     13\u001b[0m     \u001b[0mI_A\u001b[0m\u001b[0;34m[\u001b[0m\u001b[0mi\u001b[0m\u001b[0;34m]\u001b[0m \u001b[0;34m=\u001b[0m \u001b[0mmnt_a\u001b[0m\u001b[0;34m.\u001b[0m\u001b[0mget_MI\u001b[0m\u001b[0;34m(\u001b[0m\u001b[0;34m)\u001b[0m\u001b[0;34m\u001b[0m\u001b[0;34m\u001b[0m\u001b[0m\n\u001b[1;32m     14\u001b[0m     \u001b[0mI_E\u001b[0m\u001b[0;34m[\u001b[0m\u001b[0mi\u001b[0m\u001b[0;34m]\u001b[0m \u001b[0;34m=\u001b[0m \u001b[0mmnt_e\u001b[0m\u001b[0;34m.\u001b[0m\u001b[0mget_MI\u001b[0m\u001b[0;34m(\u001b[0m\u001b[0;34m)\u001b[0m\u001b[0;34m\u001b[0m\u001b[0;34m\u001b[0m\u001b[0m\n",
      "\u001b[0;31mKeyboardInterrupt\u001b[0m: "
     ]
    }
   ],
   "source": [
    "# Compute the EXIT chart\n",
    "I_A = np.zeros(sigma_a_vec.shape)\n",
    "I_E = np.zeros(sigma_a_vec.shape)\n",
    "print(\"---------|---------|----------\")\n",
    "print(\"  I_A_0  |   I_A   |    I_E   \")\n",
    "print(\"---------|---------|----------\")\n",
    "for i in range(len(sigma_a_vec)):\n",
    "    mnt_a.reset()\n",
    "    mnt_e.reset()\n",
    "    \n",
    "    sigma_a[0] = sigma_a_vec[i]\n",
    "    seq.exec()\n",
    "    I_A[i] = mnt_a.get_MI()\n",
    "    I_E[i] = mnt_e.get_MI()\n",
    "    print(\"%8.2f | %7.2f | %7.2f \"%(I_A_0[i], I_A[i], I_E[i]))\n"
   ]
  },
  {
   "cell_type": "code",
   "execution_count": null,
   "metadata": {},
   "outputs": [
    {
     "data": {
      "image/png": "[encoded data removed]",
      "text/plain": [
       "<Figure size 432x288 with 1 Axes>"
      ]
     },
     "metadata": {
      "needs_background": "light"
     },
     "output_type": "display_data"
    }
   ],
   "source": [
    "fig = plt.figure()\n",
    "plt.title(\"EXIT Chart\")\n",
    "plt.xlabel(\"I_A\")\n",
    "plt.ylabel(\"I_E\")\n",
    "plt.grid()\n",
    "plt.plot(I_A, I_E, 'r-')\n",
    "plt.ylim((0, 1))\n",
    "plt.show()"
   ]
  },
  {
   "cell_type": "code",
   "execution_count": 9,
   "metadata": {},
   "outputs": [],
   "source": [
    "seq.export_dot(\"seq.export.dot\")"
   ]
  },
  {
   "cell_type": "code",
   "execution_count": null,
   "metadata": {},
   "outputs": [],
   "source": []
  }
 ],
 "metadata": {
  "interpreter": {
   "hash": "aee8b7b246df8f9039afb4144a1f6fd8d2ca17a180786b69acc140d282b71a49"
  },
  "kernelspec": {
   "display_name": "Python 3.9.6 64-bit",
   "name": "python3"
  },
  "language_info": {
   "codemirror_mode": {
    "name": "ipython",
    "version": 3
   },
   "file_extension": ".py",
   "mimetype": "text/x-python",
   "name": "python",
   "nbconvert_exporter": "python",
   "pygments_lexer": "ipython3",
   "version": "3.8.10"
  },
  "metadata": {
   "interpreter": {
    "hash": "aee8b7b246df8f9039afb4144a1f6fd8d2ca17a180786b69acc140d282b71a49"
   }
  }
 },
 "nbformat": 4,
 "nbformat_minor": 4
}
