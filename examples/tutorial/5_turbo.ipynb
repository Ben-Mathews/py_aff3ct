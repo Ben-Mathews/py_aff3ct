{
 "cells": [
  {
   "cell_type": "code",
   "execution_count": 1,
   "metadata": {},
   "outputs": [
    {
     "name": "stdout",
     "output_type": "stream",
     "text": [
      "The use of parenthesis for accessing tasks is deprecated, use brackets instead.\n",
      "The use of parenthesis for accessing tasks is deprecated, use brackets instead.\n",
      " Eb/NO (dB) | Frame number |    BER   |    FER   |  Tpt (Mbps)\n",
      "------------|--------------|----------|----------|------------\n",
      "       0.00 |         1068 | 2.19e-01 | 9.42e-01 |       6.88\n"
     ]
    },
    {
     "data": {
      "image/png": "[encoded data removed]",
      "text/plain": [
       "<Figure size 432x288 with 1 Axes>"
      ]
     },
     "metadata": {
      "needs_background": "light"
     },
     "output_type": "display_data"
    },
    {
     "name": "stdout",
     "output_type": "stream",
     "text": [
      "       0.20 |         1199 | 1.79e-01 | 8.39e-01 |       6.75\n",
      "       0.40 |         1426 | 1.30e-01 | 7.05e-01 |       6.47\n",
      "       0.60 |         2847 | 5.18e-02 | 3.52e-01 |       6.24\n",
      "       0.80 |         7919 | 1.57e-02 | 1.26e-01 |       6.86\n",
      "       1.00 |        46214 | 2.32e-03 | 2.16e-02 |       6.88\n",
      "       1.20 |       362582 | 2.36e-04 | 2.76e-03 |       6.00\n"
     ]
    }
   ],
   "source": [
    "#!/usr/bin/env python3\n",
    "\n",
    "import sys\n",
    "sys.path.insert(0, '../../build/lib')\n",
    "\n",
    "import numpy as np\n",
    "import py_aff3ct as aff3ct\n",
    "import math\n",
    "import time\n",
    "import matplotlib.pyplot as plt\n",
    "from datetime import timedelta\n",
    "\n",
    "K = 440*2\n",
    "N = 3*K\n",
    "ebn0_min = 0\n",
    "ebn0_max = 3.0\n",
    "ebn0_step = 0.2\n",
    "\n",
    "ebn0 = np.arange(ebn0_min,ebn0_max,ebn0_step)\n",
    "esn0 = ebn0 + 10 * math.log10(K/N)\n",
    "sigma_vals = 1/(math.sqrt(2) * 10 ** (esn0 / 20))\n",
    "\n",
    "src = aff3ct.module.source.Source_random_fast(K, 12)\n",
    "\n",
    "# Build DVBS-RCS2 Turbo encoder.\n",
    "enc_n = aff3ct.module.encoder.Encoder_RSC_DB(K,2*K,standard='DVB-RCS2')\n",
    "enc_i = aff3ct.module.encoder.Encoder_RSC_DB(K,2*K,standard='DVB-RCS2')\n",
    "\n",
    "# Build DVBS-RCS2 Interleaver.\n",
    "itl_core = aff3ct.tools.interleaver_core.Interleaver_core_ARP_DVB_RCS2(K//2)\n",
    "itl_bit  = aff3ct.module.interleaver.Interleaver_int32(itl_core)\n",
    "itl_llr  = aff3ct.module.interleaver.Interleaver_float(itl_core)\n",
    "enc = aff3ct.module.encoder.Encoder_turbo_DB(K,N,enc_n,enc_i,itl_bit)\n",
    "\n",
    "# Build DVBS-RCS2 Trubo decoder.\n",
    "trellis_n = enc_n.get_trellis()\n",
    "trellis_i = enc_i.get_trellis()\n",
    "\n",
    "dec_n = aff3ct.module.decoder.Decoder_RSC_DB_BCJR_DVB_RCS2(K,trellis_n)\n",
    "dec_i = aff3ct.module.decoder.Decoder_RSC_DB_BCJR_DVB_RCS2(K,trellis_i)\n",
    "dec   = aff3ct.module.decoder.Decoder_turbo_DB(K,N,8,dec_n,dec_i,itl_llr)\n",
    "mdm   = aff3ct.module.modem.Modem_BPSK_fast(N)\n",
    "\n",
    "gen = aff3ct.tools.Gaussian_noise_generator_implem.FAST\n",
    "chn = aff3ct.module.channel.Channel_AWGN_LLR(N, gen)\n",
    "mnt = aff3ct.module.monitor.Monitor_BFER_AR(K, 1000)\n",
    "\n",
    "sigma = np.ndarray(shape = (1,1),  dtype = np.float32)\n",
    "enc[\"encode       ::U_K \"].bind(src[\"generate   ::U_K \"])\n",
    "mdm[\"modulate     ::X_N1\"].bind(enc[\"encode     ::X_N \"])\n",
    "chn[\"add_noise    ::X_N \"].bind(mdm[\"modulate   ::X_N2\"])\n",
    "mdm[\"demodulate   ::Y_N1\"].bind(chn[\"add_noise  ::Y_N \"])\n",
    "dec[\"decode_siho  ::Y_N \"].bind(mdm[\"demodulate ::Y_N2\"])\n",
    "mnt[\"check_errors ::U   \"].bind(src[\"generate   ::U_K \"])\n",
    "mnt[\"check_errors ::V   \"].bind(dec[\"decode_siho::V_K \"])\n",
    "chn[\"add_noise    ::CP  \"].bind(                 sigma  )\n",
    "mdm[\"demodulate   ::CP  \"].bind(                 sigma  )\n",
    "\n",
    "seq  = aff3ct.tools.sequence.Sequence(src(\"generate\"), mnt(\"check_errors\"), 8)\n",
    "\n",
    "fer = np.zeros(len(ebn0))\n",
    "ber = np.zeros(len(ebn0))\n",
    "\n",
    "fig = plt.figure()\n",
    "ax = fig.add_subplot(111)\n",
    "line1,line2, = ax.semilogy(ebn0, fer, 'r-', ebn0, ber, 'b--') # Returns a tuple of line objects, thus the comma\n",
    "plt.ylim((1e-6, 1))\n",
    "\n",
    "print(\" Eb/NO (dB) | Frame number |    BER   |    FER   |  Tpt (Mbps)\")\n",
    "print(\"------------|--------------|----------|----------|------------\")\n",
    "for i in range(len(sigma_vals)):\n",
    "\tsigma[:] = sigma_vals[i]\n",
    "\n",
    "\tt = time.time()\n",
    "\tseq.exec()\n",
    "\telapsed = time.time() - t\n",
    "\ttotal_fra = mnt.get_n_analyzed_fra()\n",
    "\n",
    "\tber[i] = mnt.get_ber()\n",
    "\tfer[i] = mnt.get_fer()\n",
    "\n",
    "\ttpt = total_fra * K * 1e-6/elapsed\n",
    "\tprint(\"%11.2f | %12d | %7.2e | %7.2e | %10.2f\"%(ebn0[i], total_fra, ber[i], fer[i], tpt))\n",
    "\n",
    "\tmnt.reset()\n",
    "\n",
    "\tline1.set_ydata(fer)\n",
    "\tline2.set_ydata(ber)\n",
    "\tfig.canvas.draw()\n",
    "\tfig.canvas.flush_events()\n",
    "\tplt.pause(1e-6)\n",
    "\n",
    "seq.show_stats()\n",
    "plt.show()"
   ]
  }
 ],
 "metadata": {
  "interpreter": {
   "hash": "916dbcbb3f70747c44a77c7bcd40155683ae19c65e1c03b4aa3499c5328201f1"
  },
  "kernelspec": {
   "display_name": "Python 3.9.4 64-bit",
   "language": "python",
   "name": "python3"
  },
  "language_info": {
   "codemirror_mode": {
    "name": "ipython",
    "version": 3
   },
   "file_extension": ".py",
   "mimetype": "text/x-python",
   "name": "python",
   "nbconvert_exporter": "python",
   "pygments_lexer": "ipython3",
   "version": "3.8.10"
  },
  "metadata": {
   "interpreter": {
    "hash": "aee8b7b246df8f9039afb4144a1f6fd8d2ca17a180786b69acc140d282b71a49"
   }
  }
 },
 "nbformat": 4,
 "nbformat_minor": 4
}
