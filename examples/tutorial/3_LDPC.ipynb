{
 "cells": [
  {
   "cell_type": "markdown",
   "metadata": {},
   "source": [
    "# LDPC BER/FER simulation\n",
    "\n",
    "Py_aff3ct includes different kind of coding scheme. This includes the well known LDPC codes. This notebook shows how to build an LDPC encoder and decoder. \n",
    "\n",
    "# Objectives\n",
    "\n",
    "At the end of this notebook, you should be able to :\n",
    "* Use the `sparse_matrix` tool of `py_aff3ct` to load a parity check matrix\n",
    "* Build and bind an LDPC encoder\n",
    "* Build and bind an LDPC decoder\n",
    "\n",
    "## Import libraries\n",
    "\n",
    "In order to use LDPC codes, one needs to use the `sparse_matrix` tool."
   ]
  },
  {
   "cell_type": "code",
   "execution_count": 1,
   "metadata": {},
   "outputs": [],
   "source": [
    "import sys  \n",
    "sys.path.insert(0, '../../build/lib')\n",
    "import numpy as np\n",
    "import time\n",
    "import math\n",
    "import matplotlib.pyplot as plt\n",
    "\n",
    "import py_aff3ct\n",
    "import py_aff3ct.tools.sparse_matrix as tool_sp"
   ]
  },
  {
   "cell_type": "markdown",
   "metadata": {},
   "source": [
    "# Load the LDPC parity check matrix\n",
    "\n",
    "The `sparse_matrix` tool loads the H matrix of the LDPC code in `.alist` format. One can alternatively load a matrix in Quasi-Cyclic format.\n",
    "The H matrix consists in `N` rows and `m` columns, with `m = N-K` if the matrix is full rank."
   ]
  },
  {
   "cell_type": "code",
   "execution_count": 2,
   "metadata": {},
   "outputs": [],
   "source": [
    "H   = tool_sp.alist.read(\"../../lib/aff3ct/conf/dec/LDPC/WIMAX_288_576.alist\")\n",
    "N   = H.shape[0]\n",
    "m   = H.shape[1]\n",
    "K   = N-m\n",
    "R   = K/N\n",
    "\n",
    "bps = 4      # Bits per Symbols   \n",
    "Ns  = N//bps # Packet size in symbols\n",
    "I   = 100    # Number of max iterations\n",
    "FE  = 1000   # Frame errors target\n",
    "\n",
    "ebn0_min = 0\n",
    "ebn0_max = 12.0\n",
    "ebn0_step = 1.0\n",
    "\n",
    "ebn0 = np.arange(ebn0_min,ebn0_max,ebn0_step)\n",
    "esn0 = ebn0 + 10 * math.log10(R)\n",
    "sigma_vals = 1/(math.sqrt(2) * 10 ** (esn0 / 20))"
   ]
  },
  {
   "cell_type": "markdown",
   "metadata": {},
   "source": [
    "# Build the modules\n",
    "\n",
    "The LDPC encoder is built with the code dimension, the code length and the H matrix of the LDPC code.\n",
    "AFF3CT supports different kind of encoders and decoders, see the [doc](http://cleroux.vvv.enseirb-matmeca.fr/AFF3CT/doc/build/build/html/_autosummary/py_aff3ct.html) for a full list of available encoders and decoders."
   ]
  },
  {
   "cell_type": "code",
   "execution_count": 3,
   "metadata": {},
   "outputs": [],
   "source": [
    "src  = py_aff3ct.module.source.Source_random           (K      )                                                   # Build source\n",
    "enc  = py_aff3ct.module.encoder.Encoder_LDPC_from_H    (K, N, H)                                                   # Build the encoder\n",
    "# enc  = py_aff3ct.module.encoder.Encoder_LDPC_from_QC    (K, N, H)                                                   # Build the encoder\n",
    "cstl = py_aff3ct.tools.constellation.Constellation_QAM (bps    )                                                   # Setup constellation tool\n",
    "mdm  = py_aff3ct.module.modem.Modem_generic            (N, cstl)                                                   # Build the modem\n",
    "chn  = py_aff3ct.module.channel.Channel_AWGN_LLR       (2*Ns   )                                                   # Build the channel (Ns complex symbols = 2Ns real dims)\n",
    "dec  = py_aff3ct.module.decoder.Decoder_LDPC_BP_horizontal_layered_inter_NMS (K, N, I, H, enc.get_info_bits_pos()) # Build the decoder\n",
    "mnt  = py_aff3ct.module.monitor.Monitor_BFER_AR        (K,100  )                                                   # Build the monitor (counting errors)"
   ]
  },
  {
   "cell_type": "markdown",
   "metadata": {},
   "source": [
    "# Modules binding and simulation loop\n",
    "\n",
    "The rest of the script does not change"
   ]
  },
  {
   "cell_type": "code",
   "execution_count": 4,
   "metadata": {},
   "outputs": [
    {
     "name": "stdout",
     "output_type": "stream",
     "text": [
      " Eb/NO (dB) | Frame number |    BER   |    FER   |  Tpt (Mbps)\n",
      "------------|--------------|----------|----------|------------\n",
      "       0.00 |          100 | 3.52e-01 | 1.00e+00 |       0.19\n",
      "       1.00 |          100 | 3.39e-01 | 1.00e+00 |       0.20\n",
      "       2.00 |          100 | 3.18e-01 | 1.00e+00 |       0.20\n",
      "       3.00 |          100 | 2.97e-01 | 1.00e+00 |       0.20\n",
      "       4.00 |          100 | 2.83e-01 | 1.00e+00 |       0.20\n",
      "       5.00 |          100 | 2.56e-01 | 1.00e+00 |       0.20\n",
      "       6.00 |          100 | 2.27e-01 | 1.00e+00 |       0.20\n",
      "       7.00 |          100 | 2.09e-01 | 1.00e+00 |       0.21\n",
      "       8.00 |          100 | 1.78e-01 | 1.00e+00 |       0.20\n",
      "       9.00 |          118 | 1.30e-01 | 8.47e-01 |       0.22\n",
      "      10.00 |          498 | 2.50e-02 | 2.01e-01 |       0.43\n"
     ]
    },
    {
     "ename": "KeyboardInterrupt",
     "evalue": "",
     "output_type": "error",
     "traceback": [
      "\u001b[0;31m---------------------------------------------------------------------------\u001b[0m",
      "\u001b[0;31mKeyboardInterrupt\u001b[0m                         Traceback (most recent call last)",
      "\u001b[0;32m<ipython-input-4-685c7a3229c6>\u001b[0m in \u001b[0;36m<module>\u001b[0;34m\u001b[0m\n\u001b[1;32m     26\u001b[0m                 \u001b[0mmdm\u001b[0m\u001b[0;34m[\u001b[0m\u001b[0;34m'modulate'\u001b[0m    \u001b[0;34m]\u001b[0m\u001b[0;34m.\u001b[0m\u001b[0mexec\u001b[0m\u001b[0;34m(\u001b[0m\u001b[0;34m)\u001b[0m\u001b[0;34m\u001b[0m\u001b[0;34m\u001b[0m\u001b[0m\n\u001b[1;32m     27\u001b[0m                 \u001b[0mchn\u001b[0m\u001b[0;34m[\u001b[0m\u001b[0;34m'add_noise'\u001b[0m   \u001b[0;34m]\u001b[0m\u001b[0;34m.\u001b[0m\u001b[0mexec\u001b[0m\u001b[0;34m(\u001b[0m\u001b[0;34m)\u001b[0m\u001b[0;34m\u001b[0m\u001b[0;34m\u001b[0m\u001b[0m\n\u001b[0;32m---> 28\u001b[0;31m                 \u001b[0mmdm\u001b[0m\u001b[0;34m[\u001b[0m\u001b[0;34m'demodulate'\u001b[0m  \u001b[0;34m]\u001b[0m\u001b[0;34m.\u001b[0m\u001b[0mexec\u001b[0m\u001b[0;34m(\u001b[0m\u001b[0;34m)\u001b[0m\u001b[0;34m\u001b[0m\u001b[0;34m\u001b[0m\u001b[0m\n\u001b[0m\u001b[1;32m     29\u001b[0m                 \u001b[0mdec\u001b[0m\u001b[0;34m[\u001b[0m\u001b[0;34m'decode_siho'\u001b[0m \u001b[0;34m]\u001b[0m\u001b[0;34m.\u001b[0m\u001b[0mexec\u001b[0m\u001b[0;34m(\u001b[0m\u001b[0;34m)\u001b[0m\u001b[0;34m\u001b[0m\u001b[0;34m\u001b[0m\u001b[0m\n\u001b[1;32m     30\u001b[0m                 \u001b[0mmnt\u001b[0m\u001b[0;34m[\u001b[0m\u001b[0;34m'check_errors'\u001b[0m\u001b[0;34m]\u001b[0m\u001b[0;34m.\u001b[0m\u001b[0mexec\u001b[0m\u001b[0;34m(\u001b[0m\u001b[0;34m)\u001b[0m\u001b[0;34m\u001b[0m\u001b[0;34m\u001b[0m\u001b[0m\n",
      "\u001b[0;31mKeyboardInterrupt\u001b[0m: "
     ]
    }
   ],
   "source": [
    "\n",
    "\n",
    "\n",
    "enc[\"encode       ::U_K \"] = src[\"generate   ::U_K \"   ]\n",
    "mdm[\"modulate     ::X_N1\"] = enc[\"encode     ::X_N \"   ]\n",
    "chn[\"add_noise    ::X_N \"] = mdm[\"modulate   ::X_N2\"   ]\n",
    "mdm[\"demodulate   ::Y_N1\"] = chn[\"add_noise  ::Y_N \"   ]\n",
    "dec[\"decode_siho  ::Y_N \"] = mdm[\"demodulate ::Y_N2\"   ]\n",
    "mnt[\"check_errors ::U   \"] = src[\"generate   ::U_K \"   ]\n",
    "mnt[\"check_errors ::V   \"] = dec[\"decode_siho::V_K \"   ]\n",
    "\n",
    "sigma = np.ndarray(shape = (1,1),  dtype = np.float32)\n",
    "chn[ 'add_noise::CP'] = sigma\n",
    "mdm['demodulate::CP'] = sigma\n",
    "\n",
    "fer = np.zeros(len(ebn0))\n",
    "ber = np.zeros(len(ebn0))\n",
    "\n",
    "print(\" Eb/NO (dB) | Frame number |    BER   |    FER   |  Tpt (Mbps)\")\n",
    "print(\"------------|--------------|----------|----------|------------\")\n",
    "for i in range(len(sigma_vals)):\n",
    "\tmnt.reset()\n",
    "\tsigma[:] = sigma_vals[i]\n",
    "\n",
    "\tt = time.time()\n",
    "\twhile not mnt.is_done():\n",
    "\t\tsrc['generate'    ].exec()\n",
    "\t\tenc['encode'      ].exec()\n",
    "\t\tmdm['modulate'    ].exec()\n",
    "\t\tchn['add_noise'   ].exec()\n",
    "\t\tmdm['demodulate'  ].exec()\n",
    "\t\tdec['decode_siho' ].exec()\n",
    "\t\tmnt['check_errors'].exec()\n",
    "\telapsed = time.time() - t\n",
    "\ttotal_fra = mnt.get_n_analyzed_fra()\n",
    "\n",
    "\tber[i] = mnt.get_ber()\n",
    "\tfer[i] = mnt.get_fer()\n",
    "\n",
    "\ttpt = total_fra * K * 1e-6/elapsed\n",
    "\tprint(\"%11.2f | %12d | %7.2e | %7.2e | %10.2f\"%(ebn0[i], total_fra, ber[i], fer[i], tpt))\n",
    "    \n",
    "\n",
    "fig = plt.figure()\n",
    "plt.title(\"16-QAM BER/FER vs Eb/N0\")\n",
    "plt.xlabel(\"Eb/N0\")\n",
    "plt.ylabel(\"BER/FER\")\n",
    "plt.grid()\n",
    "plt.semilogy(ebn0, fer, 'r-', ebn0, ber, 'b--')\n",
    "plt.show()\n",
    "\n"
   ]
  },
  {
   "cell_type": "markdown",
   "metadata": {},
   "source": [
    "# Erxercise\n",
    "\n",
    "Browse the LDPC codes directory : "
   ]
  }
 ],
 "metadata": {
  "interpreter": {
   "hash": "916dbcbb3f70747c44a77c7bcd40155683ae19c65e1c03b4aa3499c5328201f1"
  },
  "kernelspec": {
   "display_name": "Python 3.9.4 64-bit",
   "language": "python",
   "name": "python3"
  },
  "language_info": {
   "codemirror_mode": {
    "name": "ipython",
    "version": 3
   },
   "file_extension": ".py",
   "mimetype": "text/x-python",
   "name": "python",
   "nbconvert_exporter": "python",
   "pygments_lexer": "ipython3",
   "version": "3.8.10"
  },
  "metadata": {
   "interpreter": {
    "hash": "aee8b7b246df8f9039afb4144a1f6fd8d2ca17a180786b69acc140d282b71a49"
   }
  }
 },
 "nbformat": 4,
 "nbformat_minor": 4
}
