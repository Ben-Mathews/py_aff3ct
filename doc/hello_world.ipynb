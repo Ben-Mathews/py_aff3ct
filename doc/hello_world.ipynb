{
 "cells": [
  {
   "cell_type": "markdown",
   "metadata": {},
   "source": [
    "# The aff3ct 'hello world'\n",
    "\n",
    "This tutorial presents the steps for playing with `aff3ct`. \n",
    "\n",
    "Before going farther, we should import the `py_aff3ct`library. The sys library is requiered to add the library path to your path. For this example, we will also need the `numpy` library."
   ]
  },
  {
   "cell_type": "code",
   "execution_count": null,
   "metadata": {},
   "outputs": [],
   "source": [
    "import sys  \n",
    "sys.path.insert(0, '../build')\n",
    "\n",
    "import py_aff3ct\n",
    "\n",
    "import numpy as np\n",
    "import math"
   ]
  },
  {
   "cell_type": "markdown",
   "metadata": {},
   "source": [
    "The `py_aff3ct` library is composed of `modules`. Globally, a module is a device that can process data. A data processing is called a `task` in the `aff3ct` language. Tasks exchange data through `sockets`.\n",
    "\n",
    "Let start by building a source for generating random binary sequences of length 16 and displaying its `tasks` and `sockets`."
   ]
  },
  {
   "cell_type": "code",
   "execution_count": null,
   "metadata": {},
   "outputs": [],
   "source": [
    "src = py_aff3ct.module.source.Source_random(16)\n",
    "src.info()"
   ]
  },
  {
   "cell_type": "markdown",
   "metadata": {},
   "source": [
    "Now we can generate the bits by executing the task named `generate`."
   ]
  },
  {
   "cell_type": "code",
   "execution_count": null,
   "metadata": {},
   "outputs": [],
   "source": [
    "src('generate').exec()\n",
    "bits = src['generate::U_K'][:]\n",
    "print(bits)"
   ]
  },
  {
   "cell_type": "markdown",
   "metadata": {},
   "source": [
    "The second line shows how to access the bits within your python code. The variable named `bits` is a NumPy array.\n",
    "\n",
    "We want now to modulate `U_K` using BPSK modulation. So, we continue by building a BPSK `modem` (which is a also a `module`)."
   ]
  },
  {
   "cell_type": "code",
   "execution_count": null,
   "metadata": {},
   "outputs": [],
   "source": [
    "mod = py_aff3ct.module.modem.Modem_BPSK(16)\n",
    "mod.info()"
   ]
  },
  {
   "cell_type": "markdown",
   "metadata": {},
   "source": [
    "To link the source `src` and the modulator `mod`, the output socket `U_K` of the task `generate` of the module `src` should be \"binded\" to the input socket `X_N1` of the task `modulate` of the module `mod`."
   ]
  },
  {
   "cell_type": "code",
   "execution_count": null,
   "metadata": {},
   "outputs": [],
   "source": [
    " mod['modulate::X_N1'].bind(src['generate::U_K'])"
   ]
  },
  {
   "cell_type": "markdown",
   "metadata": {},
   "source": [
    "Now we can execute the processing sequence."
   ]
  },
  {
   "cell_type": "code",
   "execution_count": null,
   "metadata": {
    "scrolled": true
   },
   "outputs": [],
   "source": [
    "src('generate').exec()\n",
    "mod('modulate').exec()\n",
    "bits    = src['generate::U_K'][:]\n",
    "symbols = mod['modulate::X_N2'][:]\n",
    "print(\"bits = \", bits)\n",
    "print(\"symbols = \", symbols)"
   ]
  },
  {
   "cell_type": "markdown",
   "metadata": {},
   "source": [
    "You can see that the data is automatically transfered from the output of `generate` to the input of `modulate`. The data printing can be handled automatically by setting the `debug` property of the tasks to `true`."
   ]
  },
  {
   "cell_type": "code",
   "execution_count": null,
   "metadata": {},
   "outputs": [],
   "source": [
    "src('generate').debug = True\n",
    "mod('modulate').debug = True\n",
    "src('generate').exec()\n",
    "mod('modulate').exec()"
   ]
  }
 ],
 "metadata": {
  "kernelspec": {
   "display_name": "Python 3",
   "language": "python",
   "name": "python3"
  },
  "language_info": {
   "codemirror_mode": {
    "name": "ipython",
    "version": 3
   },
   "file_extension": ".py",
   "mimetype": "text/x-python",
   "name": "python",
   "nbconvert_exporter": "python",
   "pygments_lexer": "ipython3",
   "version": "3.8.5"
  }
 },
 "nbformat": 4,
 "nbformat_minor": 4
}
