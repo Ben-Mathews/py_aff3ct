{
 "cells": [
  {
   "cell_type": "markdown",
   "metadata": {},
   "source": [
    "# The py_aff3ct 'hello world'\n",
    "\n",
    "This tutorial presents the steps for playing with `aff3ct`. \n",
    "\n",
    "Before going farther, we should import the `py_aff3ct`library. The sys library is requiered to add the library path to your path. For this example, we will also need the `numpy` library."
   ]
  },
  {
   "cell_type": "code",
   "execution_count": 1,
   "metadata": {},
   "outputs": [],
   "source": [
    "import sys  \n",
    "sys.path.insert(0, '../build')\n",
    "\n",
    "import py_aff3ct\n",
    "py_aff3ct.disable_color()\n",
    "\n",
    "import numpy as np\n",
    "import math"
   ]
  },
  {
   "cell_type": "markdown",
   "metadata": {},
   "source": [
    "The `py_aff3ct` library is composed of `modules`. Globally, a module is a device that can process data. A data processing is called a `task` in the `aff3ct` language. Tasks exchange data through `sockets`.\n",
    "\n",
    "Let start by building a source for generating random binary sequences of length 8 and displaying its `tasks` and `sockets`."
   ]
  },
  {
   "cell_type": "code",
   "execution_count": 2,
   "metadata": {},
   "outputs": [],
   "source": [
    "src = py_aff3ct.module.source.Source_random(8)"
   ]
  },
  {
   "cell_type": "markdown",
   "metadata": {},
   "source": [
    "Now we can generate the bits randomly by executing the task named `generate`."
   ]
  },
  {
   "cell_type": "code",
   "execution_count": 3,
   "metadata": {},
   "outputs": [
    {
     "name": "stdout",
     "output_type": "stream",
     "text": [
      "- Task \n",
      "\t- Name         : generate\n",
      "\t- Sockets      : \n",
      "\t- Socket 0\n",
      "\t\t- Name              : U_K\n",
      "\t\t- Type              : out\n",
      "\t\t- Elements per frame: 8\n",
      "\t\t- Data type         : int32\n",
      "\t- Socket 1\n",
      "\t\t- Name              : status\n",
      "\t\t- Type              : out\n",
      "\t\t- Elements per frame: 1\n",
      "\t\t- Data type         : int32\n",
      "\n"
     ]
    }
   ],
   "source": [
    "src('generate').info()\n",
    "src('generate').exec()"
   ]
  },
  {
   "cell_type": "markdown",
   "metadata": {},
   "source": [
    "The generated bits are contained in the socket `U_K` and can be accessed from your python code as a NumPy array using the `module['task_name::socket_name']` syntax. "
   ]
  },
  {
   "cell_type": "code",
   "execution_count": 11,
   "metadata": {},
   "outputs": [
    {
     "name": "stdout",
     "output_type": "stream",
     "text": [
      "bits =  [[0 0 0 1 0 1 1 0]]\n"
     ]
    }
   ],
   "source": [
    "bits = src['generate::U_K'][:]\n",
    "print(\"bits = \", bits)"
   ]
  },
  {
   "cell_type": "markdown",
   "metadata": {},
   "source": [
    "We want now to modulate the bits of `U_K` using BPSK modulation. So, we start by building a BPSK `modem` (which is a also a `module`)."
   ]
  },
  {
   "cell_type": "code",
   "execution_count": 5,
   "metadata": {},
   "outputs": [],
   "source": [
    "mod = py_aff3ct.module.modem.Modem_BPSK(8)"
   ]
  },
  {
   "cell_type": "markdown",
   "metadata": {},
   "source": [
    "When asking for more details about the task `modulate` of object `mod` we can see that this task has one input socket called `X_N1`."
   ]
  },
  {
   "cell_type": "code",
   "execution_count": 6,
   "metadata": {},
   "outputs": [
    {
     "name": "stdout",
     "output_type": "stream",
     "text": [
      "- Task \n",
      "\t- Name         : modulate\n",
      "\t- Sockets      : \n",
      "\t- Socket 0\n",
      "\t\t- Name              : X_N1\n",
      "\t\t- Type              : in\n",
      "\t\t- Elements per frame: 8\n",
      "\t\t- Data type         : int32\n",
      "\t- Socket 1\n",
      "\t\t- Name              : X_N2\n",
      "\t\t- Type              : out\n",
      "\t\t- Elements per frame: 8\n",
      "\t\t- Data type         : float32\n",
      "\t- Socket 2\n",
      "\t\t- Name              : status\n",
      "\t\t- Type              : out\n",
      "\t\t- Elements per frame: 1\n",
      "\t\t- Data type         : int32\n",
      "\n"
     ]
    }
   ],
   "source": [
    "mod('modulate').info()"
   ]
  },
  {
   "cell_type": "markdown",
   "metadata": {},
   "source": [
    "To link the source `src` and the modulator `mod`, the output socket `U_K` of the task `generate` of the module `src` should be \"binded\" to the input socket `X_N1` of the task `modulate` of the module `mod`."
   ]
  },
  {
   "cell_type": "code",
   "execution_count": 7,
   "metadata": {},
   "outputs": [],
   "source": [
    " mod['modulate::X_N1'].bind(src['generate::U_K'])"
   ]
  },
  {
   "cell_type": "markdown",
   "metadata": {},
   "source": [
    "Now we can execute the processing sequence."
   ]
  },
  {
   "cell_type": "code",
   "execution_count": 8,
   "metadata": {
    "scrolled": true
   },
   "outputs": [
    {
     "name": "stdout",
     "output_type": "stream",
     "text": [
      "bits    =  [[1 1 1 0 0 1 0 0]]\n",
      "symbols =  [[-1. -1. -1.  1.  1. -1.  1.  1.]]\n"
     ]
    }
   ],
   "source": [
    "src('generate').exec()\n",
    "mod('modulate').exec()\n",
    "bits    = src['generate::U_K'][:]\n",
    "symbols = mod['modulate::X_N2'][:]\n",
    "print(\"bits    = \", bits)\n",
    "print(\"symbols = \", symbols)"
   ]
  },
  {
   "cell_type": "markdown",
   "metadata": {},
   "source": [
    "You can see that the data is automatically transfered from the output of `generate` to the input of `modulate`. The data printing can be handled automatically by setting the `debug` property of the tasks to `true`."
   ]
  },
  {
   "cell_type": "code",
   "execution_count": 9,
   "metadata": {},
   "outputs": [
    {
     "name": "stdout",
     "output_type": "stream",
     "text": [
      "# Source_random::generate(int32 U_K[8])\n",
      "# {OUT} U_K = [    0,     0,     0,     1,     0,     1,     1,     0]\n",
      "# Returned status: [0 'SUCCESS']\n",
      "#\n",
      "# Modem_BPSK::modulate(const int32 X_N1[8], float32 X_N2[8])\n",
      "# {IN}  X_N1 = [    0,     0,     0,     1,     0,     1,     1,     0]\n",
      "# {OUT} X_N2 = [ 1.00,  1.00,  1.00, -1.00,  1.00, -1.00, -1.00,  1.00]\n",
      "# Returned status: [0 'SUCCESS']\n",
      "#\n"
     ]
    }
   ],
   "source": [
    "src('generate').debug = True\n",
    "mod('modulate').debug = True\n",
    "src('generate').exec()\n",
    "mod('modulate').exec()"
   ]
  }
 ],
 "metadata": {
  "kernelspec": {
   "display_name": "Python 3",
   "language": "python",
   "name": "python3"
  },
  "language_info": {
   "codemirror_mode": {
    "name": "ipython",
    "version": 3
   },
   "file_extension": ".py",
   "mimetype": "text/x-python",
   "name": "python",
   "nbconvert_exporter": "python",
   "pygments_lexer": "ipython3",
   "version": "3.8.5"
  }
 },
 "nbformat": 4,
 "nbformat_minor": 4
}
