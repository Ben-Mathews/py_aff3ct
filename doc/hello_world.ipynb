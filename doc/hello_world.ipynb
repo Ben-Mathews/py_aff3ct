{
 "cells": [
  {
   "cell_type": "markdown",
   "metadata": {},
   "source": [
    "# The aff3ct 'hello world'\n",
    "\n",
    "This tutorial presents the steps for playing with `aff3ct`. \n",
    "\n",
    "Before going farther, we should import the `py_aff3ct`library. The sys library is requiered to add the library path to your path. For this example, we will also need the `numpy` library."
   ]
  },
  {
   "cell_type": "code",
   "execution_count": 44,
   "metadata": {},
   "outputs": [],
   "source": [
    "import sys  \n",
    "sys.path.insert(0, '../build')\n",
    "\n",
    "import py_aff3ct\n",
    "\n",
    "import numpy as np\n",
    "import math"
   ]
  },
  {
   "cell_type": "markdown",
   "metadata": {},
   "source": [
    "The `py_aff3ct` library is composed of `modules`. Globally, a module is a device that can process data. A data processing is called a `task` in the `aff3ct` language. Tasks exchange data through `sockets`.\n",
    "\n",
    "Let start by building a source for generating random binary sequences of length 16 and displaying its `tasks` and `sockets`."
   ]
  },
  {
   "cell_type": "code",
   "execution_count": 48,
   "metadata": {},
   "outputs": [
    {
     "name": "stdout",
     "output_type": "stream",
     "text": [
      "-----------------------------Source_random-----------------------------\n",
      "\u001b[1m\u001b[32m- Name         : \u001b[0m\n",
      "- Class        : Source_random\n",
      "- Frames number: 1\n",
      "\u001b[1m\u001b[35m- Tasks        :\u001b[0m\n",
      "\t- Task 0\n",
      "\u001b[1m\u001b[35m\t\t- Name         : generate\u001b[0m\n",
      "\u001b[1m\u001b[34m\t\t- Sockets      : \u001b[0m\n",
      "\t\t\t- Socket 0\n",
      "\u001b[1m\u001b[34m\t\t\t\t- Name              : U_K\u001b[0m\n",
      "\t\t\t\t- Type              : out\n",
      "\t\t\t\t- Elements per frame: 16\n",
      "\t\t\t\t- Data type         : int32\n",
      "\t\t\t- Socket 1\n",
      "\u001b[1m\u001b[34m\t\t\t\t- Name              : status\u001b[0m\n",
      "\t\t\t\t- Type              : out\n",
      "\t\t\t\t- Elements per frame: 1\n",
      "\t\t\t\t- Data type         : int32\n",
      "\n"
     ]
    }
   ],
   "source": [
    "src = py_aff3ct.module.source.Source_random(16)\n",
    "src.info()"
   ]
  },
  {
   "cell_type": "markdown",
   "metadata": {},
   "source": [
    "Now we can generate the bits by executing the task named `generate`."
   ]
  },
  {
   "cell_type": "code",
   "execution_count": 49,
   "metadata": {},
   "outputs": [
    {
     "name": "stdout",
     "output_type": "stream",
     "text": [
      "[[0 1 1 0 1 1 1 1 1 1 1 0 0 1 0 0]]\n"
     ]
    }
   ],
   "source": [
    "src('generate').exec()\n",
    "bits = src['generate::U_K'][:]\n",
    "print(bits)"
   ]
  },
  {
   "cell_type": "markdown",
   "metadata": {},
   "source": [
    "The second line shows how to access the bits within your python code. The variable named `bits` is a NumPy array.\n",
    "\n",
    "We want now to modulate `U_K` using BPSK modulation. So, we continue by building a BPSK `modem` (which is a also a `module`)."
   ]
  },
  {
   "cell_type": "code",
   "execution_count": 47,
   "metadata": {},
   "outputs": [
    {
     "name": "stdout",
     "output_type": "stream",
     "text": [
      "-----------------------------Modem_BPSK-----------------------------\n",
      "\u001b[1m\u001b[32m- Name         : \u001b[0m\n",
      "- Class        : Modem_BPSK\n",
      "- Frames number: 1\n",
      "\u001b[1m\u001b[35m- Tasks        :\u001b[0m\n",
      "\t- Task 0\n",
      "\u001b[1m\u001b[35m\t\t- Name         : modulate\u001b[0m\n",
      "\u001b[1m\u001b[34m\t\t- Sockets      : \u001b[0m\n",
      "\t\t\t- Socket 0\n",
      "\u001b[1m\u001b[34m\t\t\t\t- Name              : X_N1\u001b[0m\n",
      "\t\t\t\t- Type              : in\n",
      "\t\t\t\t- Elements per frame: 16\n",
      "\t\t\t\t- Data type         : int32\n",
      "\t\t\t- Socket 1\n",
      "\u001b[1m\u001b[34m\t\t\t\t- Name              : X_N2\u001b[0m\n",
      "\t\t\t\t- Type              : out\n",
      "\t\t\t\t- Elements per frame: 16\n",
      "\t\t\t\t- Data type         : float32\n",
      "\t\t\t- Socket 2\n",
      "\u001b[1m\u001b[34m\t\t\t\t- Name              : status\u001b[0m\n",
      "\t\t\t\t- Type              : out\n",
      "\t\t\t\t- Elements per frame: 1\n",
      "\t\t\t\t- Data type         : int32\n",
      "\t- Task 1\n",
      "\u001b[1m\u001b[35m\t\t- Name         : tmodulate\u001b[0m\n",
      "\u001b[1m\u001b[34m\t\t- Sockets      : \u001b[0m\n",
      "\t\t\t- Socket 0\n",
      "\u001b[1m\u001b[34m\t\t\t\t- Name              : X_N1\u001b[0m\n",
      "\t\t\t\t- Type              : in\n",
      "\t\t\t\t- Elements per frame: 16\n",
      "\t\t\t\t- Data type         : float32\n",
      "\t\t\t- Socket 1\n",
      "\u001b[1m\u001b[34m\t\t\t\t- Name              : X_N2\u001b[0m\n",
      "\t\t\t\t- Type              : out\n",
      "\t\t\t\t- Elements per frame: 16\n",
      "\t\t\t\t- Data type         : float32\n",
      "\t\t\t- Socket 2\n",
      "\u001b[1m\u001b[34m\t\t\t\t- Name              : status\u001b[0m\n",
      "\t\t\t\t- Type              : out\n",
      "\t\t\t\t- Elements per frame: 1\n",
      "\t\t\t\t- Data type         : int32\n",
      "\t- Task 2\n",
      "\u001b[1m\u001b[35m\t\t- Name         : filter\u001b[0m\n",
      "\u001b[1m\u001b[34m\t\t- Sockets      : \u001b[0m\n",
      "\t\t\t- Socket 0\n",
      "\u001b[1m\u001b[34m\t\t\t\t- Name              : CP\u001b[0m\n",
      "\t\t\t\t- Type              : in\n",
      "\t\t\t\t- Elements per frame: 1\n",
      "\t\t\t\t- Data type         : float32\n",
      "\t\t\t- Socket 1\n",
      "\u001b[1m\u001b[34m\t\t\t\t- Name              : Y_N1\u001b[0m\n",
      "\t\t\t\t- Type              : in\n",
      "\t\t\t\t- Elements per frame: 16\n",
      "\t\t\t\t- Data type         : float32\n",
      "\t\t\t- Socket 2\n",
      "\u001b[1m\u001b[34m\t\t\t\t- Name              : Y_N2\u001b[0m\n",
      "\t\t\t\t- Type              : out\n",
      "\t\t\t\t- Elements per frame: 16\n",
      "\t\t\t\t- Data type         : float32\n",
      "\t\t\t- Socket 3\n",
      "\u001b[1m\u001b[34m\t\t\t\t- Name              : status\u001b[0m\n",
      "\t\t\t\t- Type              : out\n",
      "\t\t\t\t- Elements per frame: 1\n",
      "\t\t\t\t- Data type         : int32\n",
      "\t- Task 3\n",
      "\u001b[1m\u001b[35m\t\t- Name         : demodulate\u001b[0m\n",
      "\u001b[1m\u001b[34m\t\t- Sockets      : \u001b[0m\n",
      "\t\t\t- Socket 0\n",
      "\u001b[1m\u001b[34m\t\t\t\t- Name              : CP\u001b[0m\n",
      "\t\t\t\t- Type              : in\n",
      "\t\t\t\t- Elements per frame: 1\n",
      "\t\t\t\t- Data type         : float32\n",
      "\t\t\t- Socket 1\n",
      "\u001b[1m\u001b[34m\t\t\t\t- Name              : Y_N1\u001b[0m\n",
      "\t\t\t\t- Type              : in\n",
      "\t\t\t\t- Elements per frame: 16\n",
      "\t\t\t\t- Data type         : float32\n",
      "\t\t\t- Socket 2\n",
      "\u001b[1m\u001b[34m\t\t\t\t- Name              : Y_N2\u001b[0m\n",
      "\t\t\t\t- Type              : out\n",
      "\t\t\t\t- Elements per frame: 16\n",
      "\t\t\t\t- Data type         : float32\n",
      "\t\t\t- Socket 3\n",
      "\u001b[1m\u001b[34m\t\t\t\t- Name              : status\u001b[0m\n",
      "\t\t\t\t- Type              : out\n",
      "\t\t\t\t- Elements per frame: 1\n",
      "\t\t\t\t- Data type         : int32\n",
      "\t- Task 4\n",
      "\u001b[1m\u001b[35m\t\t- Name         : tdemodulate\u001b[0m\n",
      "\u001b[1m\u001b[34m\t\t- Sockets      : \u001b[0m\n",
      "\t\t\t- Socket 0\n",
      "\u001b[1m\u001b[34m\t\t\t\t- Name              : CP\u001b[0m\n",
      "\t\t\t\t- Type              : in\n",
      "\t\t\t\t- Elements per frame: 1\n",
      "\t\t\t\t- Data type         : float32\n",
      "\t\t\t- Socket 1\n",
      "\u001b[1m\u001b[34m\t\t\t\t- Name              : Y_N1\u001b[0m\n",
      "\t\t\t\t- Type              : in\n",
      "\t\t\t\t- Elements per frame: 16\n",
      "\t\t\t\t- Data type         : float32\n",
      "\t\t\t- Socket 2\n",
      "\u001b[1m\u001b[34m\t\t\t\t- Name              : Y_N2\u001b[0m\n",
      "\t\t\t\t- Type              : in\n",
      "\t\t\t\t- Elements per frame: 16\n",
      "\t\t\t\t- Data type         : float32\n",
      "\t\t\t- Socket 3\n",
      "\u001b[1m\u001b[34m\t\t\t\t- Name              : Y_N3\u001b[0m\n",
      "\t\t\t\t- Type              : out\n",
      "\t\t\t\t- Elements per frame: 16\n",
      "\t\t\t\t- Data type         : float32\n",
      "\t\t\t- Socket 4\n",
      "\u001b[1m\u001b[34m\t\t\t\t- Name              : status\u001b[0m\n",
      "\t\t\t\t- Type              : out\n",
      "\t\t\t\t- Elements per frame: 1\n",
      "\t\t\t\t- Data type         : int32\n",
      "\t- Task 5\n",
      "\u001b[1m\u001b[35m\t\t- Name         : demodulate_wg\u001b[0m\n",
      "\u001b[1m\u001b[34m\t\t- Sockets      : \u001b[0m\n",
      "\t\t\t- Socket 0\n",
      "\u001b[1m\u001b[34m\t\t\t\t- Name              : CP\u001b[0m\n",
      "\t\t\t\t- Type              : in\n",
      "\t\t\t\t- Elements per frame: 1\n",
      "\t\t\t\t- Data type         : float32\n",
      "\t\t\t- Socket 1\n",
      "\u001b[1m\u001b[34m\t\t\t\t- Name              : H_N\u001b[0m\n",
      "\t\t\t\t- Type              : in\n",
      "\t\t\t\t- Elements per frame: 16\n",
      "\t\t\t\t- Data type         : float32\n",
      "\t\t\t- Socket 2\n",
      "\u001b[1m\u001b[34m\t\t\t\t- Name              : Y_N1\u001b[0m\n",
      "\t\t\t\t- Type              : in\n",
      "\t\t\t\t- Elements per frame: 16\n",
      "\t\t\t\t- Data type         : float32\n",
      "\t\t\t- Socket 3\n",
      "\u001b[1m\u001b[34m\t\t\t\t- Name              : Y_N2\u001b[0m\n",
      "\t\t\t\t- Type              : out\n",
      "\t\t\t\t- Elements per frame: 16\n",
      "\t\t\t\t- Data type         : float32\n",
      "\t\t\t- Socket 4\n",
      "\u001b[1m\u001b[34m\t\t\t\t- Name              : status\u001b[0m\n",
      "\t\t\t\t- Type              : out\n",
      "\t\t\t\t- Elements per frame: 1\n",
      "\t\t\t\t- Data type         : int32\n",
      "\t- Task 6\n",
      "\u001b[1m\u001b[35m\t\t- Name         : tdemodulate_wg\u001b[0m\n",
      "\u001b[1m\u001b[34m\t\t- Sockets      : \u001b[0m\n",
      "\t\t\t- Socket 0\n",
      "\u001b[1m\u001b[34m\t\t\t\t- Name              : CP\u001b[0m\n",
      "\t\t\t\t- Type              : in\n",
      "\t\t\t\t- Elements per frame: 1\n",
      "\t\t\t\t- Data type         : float32\n",
      "\t\t\t- Socket 1\n",
      "\u001b[1m\u001b[34m\t\t\t\t- Name              : H_N\u001b[0m\n",
      "\t\t\t\t- Type              : in\n",
      "\t\t\t\t- Elements per frame: 16\n",
      "\t\t\t\t- Data type         : float32\n",
      "\t\t\t- Socket 2\n",
      "\u001b[1m\u001b[34m\t\t\t\t- Name              : Y_N1\u001b[0m\n",
      "\t\t\t\t- Type              : in\n",
      "\t\t\t\t- Elements per frame: 16\n",
      "\t\t\t\t- Data type         : float32\n",
      "\t\t\t- Socket 3\n",
      "\u001b[1m\u001b[34m\t\t\t\t- Name              : Y_N2\u001b[0m\n",
      "\t\t\t\t- Type              : in\n",
      "\t\t\t\t- Elements per frame: 16\n",
      "\t\t\t\t- Data type         : float32\n",
      "\t\t\t- Socket 4\n",
      "\u001b[1m\u001b[34m\t\t\t\t- Name              : Y_N3\u001b[0m\n",
      "\t\t\t\t- Type              : out\n",
      "\t\t\t\t- Elements per frame: 16\n",
      "\t\t\t\t- Data type         : float32\n",
      "\t\t\t- Socket 5\n",
      "\u001b[1m\u001b[34m\t\t\t\t- Name              : status\u001b[0m\n",
      "\t\t\t\t- Type              : out\n",
      "\t\t\t\t- Elements per frame: 1\n",
      "\t\t\t\t- Data type         : int32\n",
      "\n"
     ]
    }
   ],
   "source": [
    "mod = py_aff3ct.module.modem.Modem_BPSK(16)\n",
    "mod.info()"
   ]
  },
  {
   "cell_type": "markdown",
   "metadata": {},
   "source": [
    "To link the source `src` and the modulator `mod`, the output socket `U_K` of the task `generate` of the module `src` should be \"binded\" to the input socket `X_N1` of the task `modulate` of the module `mod`."
   ]
  },
  {
   "cell_type": "code",
   "execution_count": 38,
   "metadata": {},
   "outputs": [],
   "source": [
    " mod['modulate::X_N1'].bind(src['generate::U_K'])"
   ]
  },
  {
   "cell_type": "markdown",
   "metadata": {},
   "source": [
    "Now we can execute the processing sequence."
   ]
  },
  {
   "cell_type": "code",
   "execution_count": 41,
   "metadata": {
    "scrolled": true
   },
   "outputs": [
    {
     "name": "stdout",
     "output_type": "stream",
     "text": [
      "bits =  [[0 1 0 1 1 1 1 1 1 0 1 1 0 0 1 0]]\n",
      "symbols =  [[ 1. -1.  1. -1. -1. -1. -1. -1. -1.  1. -1. -1.  1.  1. -1.  1.]]\n"
     ]
    }
   ],
   "source": [
    "src('generate').exec()\n",
    "mod('modulate').exec()\n",
    "bits    = src['generate::U_K'][:]\n",
    "symbols = mod['modulate::X_N2'][:]\n",
    "print(\"bits = \", bits)\n",
    "print(\"symbols = \", symbols)"
   ]
  },
  {
   "cell_type": "markdown",
   "metadata": {},
   "source": [
    "You can see that the data is automatically transfered from the output of `generate` to the input of `modulate`. The data printing can be handled automatically by setting the `debug` property of the tasks to `true`."
   ]
  },
  {
   "cell_type": "code",
   "execution_count": 43,
   "metadata": {},
   "outputs": [
    {
     "name": "stdout",
     "output_type": "stream",
     "text": [
      "# \u001b[1m\u001b[32mSource_random\u001b[0m::\u001b[1m\u001b[35mgenerate\u001b[0m(\u001b[1m\u001b[34mint32\u001b[0m U_K[16])\n",
      "# {OUT} U_K = [    0,     1,     1,     0,     1,     0,     0,     1,     0,     0,     0,     1,     1,     0,     1,     0]\n",
      "# Returned status: [0 'SUCCESS']\n",
      "#\n",
      "# \u001b[1m\u001b[32mModem_BPSK\u001b[0m::\u001b[1m\u001b[35mmodulate\u001b[0m(\u001b[1m\u001b[34mconst int32\u001b[0m X_N1[16], \u001b[1m\u001b[34mfloat32\u001b[0m X_N2[16])\n",
      "# {IN}  X_N1 = [    0,     1,     1,     0,     1,     0,     0,     1,     0,     0,     0,     1,     1,     0,     1,     0]\n",
      "# {OUT} X_N2 = [ 1.00, -1.00, -1.00,  1.00, -1.00,  1.00,  1.00, -1.00,  1.00,  1.00,  1.00, -1.00, -1.00,  1.00, -1.00,  1.00]\n",
      "# Returned status: [0 'SUCCESS']\n",
      "#\n"
     ]
    }
   ],
   "source": [
    "src('generate').debug = True\n",
    "mod('modulate').debug = True\n",
    "src('generate').exec()\n",
    "mod('modulate').exec()"
   ]
  }
 ],
 "metadata": {
  "kernelspec": {
   "display_name": "Python 3",
   "language": "python",
   "name": "python3"
  },
  "language_info": {
   "codemirror_mode": {
    "name": "ipython",
    "version": 3
   },
   "file_extension": ".py",
   "mimetype": "text/x-python",
   "name": "python",
   "nbconvert_exporter": "python",
   "pygments_lexer": "ipython3",
   "version": "3.8.5"
  }
 },
 "nbformat": 4,
 "nbformat_minor": 4
}
