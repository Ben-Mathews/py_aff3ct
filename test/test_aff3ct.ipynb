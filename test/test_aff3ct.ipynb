{
 "cells": [
  {
   "cell_type": "code",
   "execution_count": null,
   "metadata": {},
   "outputs": [],
   "source": [
    "import sys  \n",
    "sys.path.insert(0, '../build/lib')\n",
    "\n",
    "import numpy as np\n",
    "import py_aff3ct as aff3ct\n",
    "import math"
   ]
  },
  {
   "cell_type": "code",
   "execution_count": null,
   "metadata": {},
   "outputs": [],
   "source": [
    "K = 8\n",
    "N = 16\n",
    "ebn0_min = 1.\n",
    "ebn0_max = 10.\n",
    "\n",
    "sigma_vals = []\n",
    "for ebn0 in range(int(ebn0_min), int(ebn0_max)):\n",
    "    esn0 = ebn0 + 10 * math.log10(K/N)\n",
    "    sigma_vals.append(math.sqrt(1 / (2 * 10 ** (esn0 / 10))))"
   ]
  },
  {
   "cell_type": "code",
   "execution_count": null,
   "metadata": {},
   "outputs": [],
   "source": [
    "src = aff3ct.module.source.Source_random(K, 12)\n",
    "enc = aff3ct.module.encoder.Encoder_repetition_sys(K, N)\n",
    "mdm = aff3ct.module.modem.Modem_BPSK(N)\n",
    "chn = aff3ct.module.channel.Channel_AWGN_LLR(N)\n",
    "#dec = aff3ct.module.decoder.Decoder_repetition_std(K, N);\n",
    "V_K = np.ndarray((1,K), np.int)"
   ]
  },
  {
   "cell_type": "code",
   "execution_count": null,
   "metadata": {},
   "outputs": [],
   "source": [
    "sigma = np.ndarray(shape = (1,1),  dtype = np.float32)\n",
    "enc[     \"encode::U_K\" ].bind(src[  \"generate::U_K\" ])\n",
    "mdm[   \"modulate::X_N1\"].bind(enc[    \"encode::X_N\" ])\n",
    "chn[  \"add_noise::CP\"  ].bind(                 sigma )\n",
    "chn[  \"add_noise::X_N\" ].bind(mdm[  \"modulate::X_N2\"])\n",
    "mdm[ \"demodulate::CP\"  ].bind(                 sigma )\n",
    "mdm[ \"demodulate::Y_N1\"].bind(chn[ \"add_noise::Y_N\" ])\n",
    "#dec[\"decode_siho::Y_N\" ].bind(mdm[\"demodulate::Y_N2\"])"
   ]
  },
  {
   "cell_type": "code",
   "execution_count": null,
   "metadata": {},
   "outputs": [],
   "source": [
    "print (sigma_vals)\n",
    "fer = []\n",
    "for s in sigma_vals:\n",
    "    \n",
    "    \n",
    "    print(\"dbg ---------------------------------\")\n",
    "    print (s)\n",
    "    sigma[:] = s\n",
    "    print(sigma[:])\n",
    "    chn[\"add_noise::CP\"].bind(sigma)\n",
    "    print(chn[\"add_noise::CP\"][:])\n",
    "    print(\"dbg ---------------------------------\")\n",
    "    \n",
    "    e = 0\n",
    "    f = 0\n",
    "    while (e < 100):\n",
    "        src(\"generate\"   ).exec()\n",
    "        enc(\"encode\"     ).exec()\n",
    "        mdm(\"modulate\"   ).exec()\n",
    "        chn(\"add_noise\"  ).exec()\n",
    "        mdm(\"demodulate\" ).exec()\n",
    "        #dec(\"decode_siho\").exec()\n",
    "\n",
    "        # patch: repetition decoder\n",
    "        V_K_float = np.ndarray(shape=(1,K), dtype=float)\n",
    "        for k in range(K):\n",
    "            V_K_float[0][k] = mdm[\"demodulate::Y_N2\"][0][k]\n",
    "            rep_count = int((N / K)) -1\n",
    "            for r in range(rep_count):\n",
    "               V_K_float[0][k] = V_K_float[0][k] + mdm[\"demodulate::Y_N2\"][0][(r+1) * K + k]\n",
    "        # hard decision\n",
    "        for k in range(K):\n",
    "            if V_K_float[0][k] > 0:\n",
    "                V_K[0][k] = 0\n",
    "            else:\n",
    "                V_K[0][k] = 1\n",
    "        \n",
    "        # debug\n",
    "        #print(\"src[  \\\"generate::U_K\\\" ]:\") \n",
    "        #print(src[  \"generate::U_K\" ][:])\n",
    "        #print(\"enc[    \\\"encode::X_N\\\" ]:\") \n",
    "        #print(enc[    \"encode::X_N\" ][:])\n",
    "        #print(\"mdm[  \\\"modulate::X_N2\\\"]:\") \n",
    "        #print(mdm[  \"modulate::X_N2\"][:])\n",
    "        #print(\"chn[ \\\"add_noise::Y_N\\\" ]:\") \n",
    "        #print(chn[ \"add_noise::Y_N\" ][:])\n",
    "        #print(\"mdm[\\\"demodulate::Y_N2\\\"]:\") \n",
    "        #print(mdm[\"demodulate::Y_N2\"][:])\n",
    "        #print(\"V_K:\")                       \n",
    "        #print(V_K)\n",
    "        #print (\"------\")\n",
    "                \n",
    "        if not (src[\"generate::U_K\"][:] == V_K).all():\n",
    "            e = e + 1\n",
    "        f = f + 1\n",
    "    print(e)\n",
    "    print(f)\n",
    "    fer.append(e / f)\n",
    "    \n",
    "print(fer)\n"
   ]
  }
 ],
 "metadata": {
  "kernelspec": {
   "display_name": "Python 3",
   "language": "python",
   "name": "python3"
  },
  "language_info": {
   "codemirror_mode": {
    "name": "ipython",
    "version": 3
   },
   "file_extension": ".py",
   "mimetype": "text/x-python",
   "name": "python",
   "nbconvert_exporter": "python",
   "pygments_lexer": "ipython3",
   "version": "3.8.2"
  }
 },
 "nbformat": 4,
 "nbformat_minor": 4
}
